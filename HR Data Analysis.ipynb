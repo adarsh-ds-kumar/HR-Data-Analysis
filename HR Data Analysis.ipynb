{
 "cells": [
  {
   "cell_type": "code",
   "execution_count": 1,
   "id": "25bbb22d",
   "metadata": {},
   "outputs": [],
   "source": [
    "import pandas as pd\n",
    "import numpy as np\n",
    "import matplotlib.pyplot as plt\n",
    "import seaborn as sns\n",
    "import warnings\n",
    "warnings.simplefilter('ignore')"
   ]
  },
  {
   "cell_type": "markdown",
   "id": "b60e6626",
   "metadata": {},
   "source": [
    "# step 1: Business Problem Understanding\n",
    "- detailed data analysis report on behalf of this data (HR Data)\n",
    "\n",
    "# step 2: Data Loading"
   ]
  },
  {
   "cell_type": "code",
   "execution_count": 2,
   "id": "80af4b96",
   "metadata": {},
   "outputs": [],
   "source": [
    "data=pd.read_csv('hr_data.csv')"
   ]
  },
  {
   "cell_type": "code",
   "execution_count": 3,
   "id": "eac92aa0",
   "metadata": {},
   "outputs": [
    {
     "data": {
      "text/html": [
       "<div>\n",
       "<style scoped>\n",
       "    .dataframe tbody tr th:only-of-type {\n",
       "        vertical-align: middle;\n",
       "    }\n",
       "\n",
       "    .dataframe tbody tr th {\n",
       "        vertical-align: top;\n",
       "    }\n",
       "\n",
       "    .dataframe thead th {\n",
       "        text-align: right;\n",
       "    }\n",
       "</style>\n",
       "<table border=\"1\" class=\"dataframe\">\n",
       "  <thead>\n",
       "    <tr style=\"text-align: right;\">\n",
       "      <th></th>\n",
       "      <th>Name</th>\n",
       "      <th>Gender</th>\n",
       "      <th>Age</th>\n",
       "      <th>Rating</th>\n",
       "      <th>Date Joined</th>\n",
       "      <th>Department</th>\n",
       "      <th>Salary</th>\n",
       "      <th>Country</th>\n",
       "    </tr>\n",
       "  </thead>\n",
       "  <tbody>\n",
       "    <tr>\n",
       "      <th>0</th>\n",
       "      <td>Parasuramudu Jamakayala</td>\n",
       "      <td>Male</td>\n",
       "      <td>20</td>\n",
       "      <td>Average</td>\n",
       "      <td>18-Oct-20</td>\n",
       "      <td>Website</td>\n",
       "      <td>$112,650</td>\n",
       "      <td>IND</td>\n",
       "    </tr>\n",
       "    <tr>\n",
       "      <th>1</th>\n",
       "      <td>Yedukondalu Panditula</td>\n",
       "      <td>Male</td>\n",
       "      <td>32</td>\n",
       "      <td>Above average</td>\n",
       "      <td>7-Apr-21</td>\n",
       "      <td>Website</td>\n",
       "      <td>$43,840</td>\n",
       "      <td>IND</td>\n",
       "    </tr>\n",
       "    <tr>\n",
       "      <th>2</th>\n",
       "      <td>Devsena Veluvalapalli</td>\n",
       "      <td>Female</td>\n",
       "      <td>31</td>\n",
       "      <td>Average</td>\n",
       "      <td>12-Apr-22</td>\n",
       "      <td>Procurement</td>\n",
       "      <td>$103,550</td>\n",
       "      <td>IND</td>\n",
       "    </tr>\n",
       "    <tr>\n",
       "      <th>3</th>\n",
       "      <td>Gopal Venkata</td>\n",
       "      <td>Male</td>\n",
       "      <td>32</td>\n",
       "      <td>Average</td>\n",
       "      <td>23-May-21</td>\n",
       "      <td>HR</td>\n",
       "      <td>$45,510</td>\n",
       "      <td>IND</td>\n",
       "    </tr>\n",
       "    <tr>\n",
       "      <th>4</th>\n",
       "      <td>Vasavi Veeravasarapu</td>\n",
       "      <td>Female</td>\n",
       "      <td>37</td>\n",
       "      <td>Poor</td>\n",
       "      <td>11-Sep-20</td>\n",
       "      <td>Finance</td>\n",
       "      <td>$115,440</td>\n",
       "      <td>IND</td>\n",
       "    </tr>\n",
       "    <tr>\n",
       "      <th>...</th>\n",
       "      <td>...</td>\n",
       "      <td>...</td>\n",
       "      <td>...</td>\n",
       "      <td>...</td>\n",
       "      <td>...</td>\n",
       "      <td>...</td>\n",
       "      <td>...</td>\n",
       "      <td>...</td>\n",
       "    </tr>\n",
       "    <tr>\n",
       "      <th>178</th>\n",
       "      <td>Elia Cockton</td>\n",
       "      <td>Female</td>\n",
       "      <td>33</td>\n",
       "      <td>Average</td>\n",
       "      <td>26-Apr-21</td>\n",
       "      <td>Website</td>\n",
       "      <td>$75,280</td>\n",
       "      <td>NZ</td>\n",
       "    </tr>\n",
       "    <tr>\n",
       "      <th>179</th>\n",
       "      <td>Gigi Bohling</td>\n",
       "      <td>Male</td>\n",
       "      <td>33</td>\n",
       "      <td>Average</td>\n",
       "      <td>8-Jul-21</td>\n",
       "      <td>Sales</td>\n",
       "      <td>$74,550</td>\n",
       "      <td>NZ</td>\n",
       "    </tr>\n",
       "    <tr>\n",
       "      <th>180</th>\n",
       "      <td>Ebonee Roxburgh</td>\n",
       "      <td>Male</td>\n",
       "      <td>30</td>\n",
       "      <td>Average</td>\n",
       "      <td>20-May-22</td>\n",
       "      <td>Procurement</td>\n",
       "      <td>$67,950</td>\n",
       "      <td>NZ</td>\n",
       "    </tr>\n",
       "    <tr>\n",
       "      <th>181</th>\n",
       "      <td>Shayne Stegel</td>\n",
       "      <td>Male</td>\n",
       "      <td>42</td>\n",
       "      <td>Poor</td>\n",
       "      <td>19-Jun-22</td>\n",
       "      <td>Finance</td>\n",
       "      <td>$70,270</td>\n",
       "      <td>NZ</td>\n",
       "    </tr>\n",
       "    <tr>\n",
       "      <th>182</th>\n",
       "      <td>Zach Polon</td>\n",
       "      <td>Male</td>\n",
       "      <td>26</td>\n",
       "      <td>Average</td>\n",
       "      <td>3-Aug-21</td>\n",
       "      <td>Procurement</td>\n",
       "      <td>$53,540</td>\n",
       "      <td>NZ</td>\n",
       "    </tr>\n",
       "  </tbody>\n",
       "</table>\n",
       "<p>183 rows × 8 columns</p>\n",
       "</div>"
      ],
      "text/plain": [
       "                        Name  Gender  Age         Rating Date Joined  \\\n",
       "0    Parasuramudu Jamakayala    Male   20        Average   18-Oct-20   \n",
       "1      Yedukondalu Panditula    Male   32  Above average    7-Apr-21   \n",
       "2      Devsena Veluvalapalli  Female   31        Average   12-Apr-22   \n",
       "3              Gopal Venkata    Male   32        Average   23-May-21   \n",
       "4       Vasavi Veeravasarapu  Female   37           Poor   11-Sep-20   \n",
       "..                       ...     ...  ...            ...         ...   \n",
       "178             Elia Cockton  Female   33        Average   26-Apr-21   \n",
       "179             Gigi Bohling    Male   33        Average    8-Jul-21   \n",
       "180          Ebonee Roxburgh    Male   30        Average   20-May-22   \n",
       "181            Shayne Stegel    Male   42           Poor   19-Jun-22   \n",
       "182               Zach Polon    Male   26        Average    3-Aug-21   \n",
       "\n",
       "      Department     Salary Country  \n",
       "0        Website  $112,650      IND  \n",
       "1        Website   $43,840      IND  \n",
       "2    Procurement  $103,550      IND  \n",
       "3             HR   $45,510      IND  \n",
       "4        Finance  $115,440      IND  \n",
       "..           ...        ...     ...  \n",
       "178      Website   $75,280       NZ  \n",
       "179        Sales   $74,550       NZ  \n",
       "180  Procurement   $67,950       NZ  \n",
       "181      Finance   $70,270       NZ  \n",
       "182  Procurement   $53,540       NZ  \n",
       "\n",
       "[183 rows x 8 columns]"
      ]
     },
     "execution_count": 3,
     "metadata": {},
     "output_type": "execute_result"
    }
   ],
   "source": [
    "data"
   ]
  },
  {
   "cell_type": "markdown",
   "id": "2f09fb3f",
   "metadata": {},
   "source": [
    "# step 3: Data Understanding or Exploration\n",
    "\n",
    "- on Raw Data"
   ]
  },
  {
   "cell_type": "code",
   "execution_count": 4,
   "id": "19e276c4",
   "metadata": {},
   "outputs": [
    {
     "name": "stdout",
     "output_type": "stream",
     "text": [
      "<class 'pandas.core.frame.DataFrame'>\n",
      "RangeIndex: 183 entries, 0 to 182\n",
      "Data columns (total 8 columns):\n",
      " #   Column       Non-Null Count  Dtype \n",
      "---  ------       --------------  ----- \n",
      " 0   Name         183 non-null    object\n",
      " 1   Gender       183 non-null    object\n",
      " 2   Age          183 non-null    int64 \n",
      " 3   Rating       183 non-null    object\n",
      " 4   Date Joined  183 non-null    object\n",
      " 5   Department   183 non-null    object\n",
      " 6   Salary       183 non-null    object\n",
      " 7   Country      183 non-null    object\n",
      "dtypes: int64(1), object(7)\n",
      "memory usage: 11.6+ KB\n"
     ]
    }
   ],
   "source": [
    "data.info()"
   ]
  },
  {
   "cell_type": "markdown",
   "id": "b46abdb6",
   "metadata": {},
   "source": [
    "- **Here we can observe that no null records in any of the columns**\n",
    "- **we can easily observed that the datatype of Date Joined column needs to be changed as Date**"
   ]
  },
  {
   "cell_type": "code",
   "execution_count": 5,
   "id": "e191d0cf",
   "metadata": {},
   "outputs": [
    {
     "data": {
      "text/plain": [
       "183"
      ]
     },
     "execution_count": 5,
     "metadata": {},
     "output_type": "execute_result"
    }
   ],
   "source": [
    "# first we need to understand each columns\n",
    "data['Name'].nunique()"
   ]
  },
  {
   "cell_type": "markdown",
   "id": "c58c21bd",
   "metadata": {},
   "source": [
    "- means name column is totally unique and it should be dropped for better analysis"
   ]
  },
  {
   "cell_type": "code",
   "execution_count": 6,
   "id": "8d4f71bc",
   "metadata": {},
   "outputs": [
    {
     "data": {
      "text/plain": [
       "array(['Male', 'Female', 'Other'], dtype=object)"
      ]
     },
     "execution_count": 6,
     "metadata": {},
     "output_type": "execute_result"
    }
   ],
   "source": [
    "data['Gender'].unique()"
   ]
  },
  {
   "cell_type": "code",
   "execution_count": 7,
   "id": "efc28f6f",
   "metadata": {},
   "outputs": [
    {
     "data": {
      "text/plain": [
       "Male      92\n",
       "Female    85\n",
       "Other      6\n",
       "Name: Gender, dtype: int64"
      ]
     },
     "execution_count": 7,
     "metadata": {},
     "output_type": "execute_result"
    }
   ],
   "source": [
    "data['Gender'].value_counts()"
   ]
  },
  {
   "cell_type": "markdown",
   "id": "e1b429b1",
   "metadata": {},
   "source": [
    "- Here three types of gender M,F and Other"
   ]
  },
  {
   "cell_type": "code",
   "execution_count": 8,
   "id": "668b2ac3",
   "metadata": {},
   "outputs": [
    {
     "data": {
      "text/plain": [
       "0      20\n",
       "1      32\n",
       "2      31\n",
       "3      32\n",
       "4      37\n",
       "       ..\n",
       "178    33\n",
       "179    33\n",
       "180    30\n",
       "181    42\n",
       "182    26\n",
       "Name: Age, Length: 183, dtype: int64"
      ]
     },
     "execution_count": 8,
     "metadata": {},
     "output_type": "execute_result"
    }
   ],
   "source": [
    "data['Age']"
   ]
  },
  {
   "cell_type": "markdown",
   "id": "4ffec345",
   "metadata": {},
   "source": [
    "- Here we observed that Age is in int data type between some particular range and its only continuous dtype"
   ]
  },
  {
   "cell_type": "code",
   "execution_count": 9,
   "id": "27818915",
   "metadata": {},
   "outputs": [
    {
     "data": {
      "text/plain": [
       "array(['Average', 'Above average', 'Poor', 'Exceptional', 'Very poor'],\n",
       "      dtype=object)"
      ]
     },
     "execution_count": 9,
     "metadata": {},
     "output_type": "execute_result"
    }
   ],
   "source": [
    "data['Rating'].unique()"
   ]
  },
  {
   "cell_type": "code",
   "execution_count": 10,
   "id": "73f3e0a9",
   "metadata": {},
   "outputs": [
    {
     "data": {
      "text/plain": [
       "Average          137\n",
       "Above average     20\n",
       "Poor              16\n",
       "Very poor          6\n",
       "Exceptional        4\n",
       "Name: Rating, dtype: int64"
      ]
     },
     "execution_count": 10,
     "metadata": {},
     "output_type": "execute_result"
    }
   ],
   "source": [
    "data['Rating'].value_counts()"
   ]
  },
  {
   "cell_type": "markdown",
   "id": "ec1c6b4a",
   "metadata": {},
   "source": [
    "- Here Rating column contain ordinal discrete_categorical (very poor < Poor < Average < Above Average < Exceptional)\n",
    "- If you're performing **descriptive analysis** (e.g., calculating mode or frequency), *keeping data in its original categorical form is fine.*\n",
    "\n",
    "\n",
    "- **Why to change ordinal categorical data?**\n",
    "- **Numerical Modeling**: Many statistical models and machine learning algorithms work with numerical data. Ordinal categorical data carries an inherent order, so it can be converted into numbers while preserving that order.\n",
    "- **Preserve Meaning**: Encoding ordinal data numerically ensures the algorithm understands the relationship between the categories (e.g., \"Beginner < Intermediate < Expert\").\n",
    "- **Efficient Computation**: Numerical data makes computations faster and easier in data analysis."
   ]
  },
  {
   "cell_type": "code",
   "execution_count": 11,
   "id": "89c31110",
   "metadata": {},
   "outputs": [
    {
     "data": {
      "text/plain": [
       "0      18-Oct-20\n",
       "1       7-Apr-21\n",
       "2      12-Apr-22\n",
       "3      23-May-21\n",
       "4      11-Sep-20\n",
       "         ...    \n",
       "178    26-Apr-21\n",
       "179     8-Jul-21\n",
       "180    20-May-22\n",
       "181    19-Jun-22\n",
       "182     3-Aug-21\n",
       "Name: Date Joined, Length: 183, dtype: object"
      ]
     },
     "execution_count": 11,
     "metadata": {},
     "output_type": "execute_result"
    }
   ],
   "source": [
    "data['Date Joined']"
   ]
  },
  {
   "cell_type": "code",
   "execution_count": 12,
   "id": "cdce9d42",
   "metadata": {},
   "outputs": [
    {
     "data": {
      "text/plain": [
       "160"
      ]
     },
     "execution_count": 12,
     "metadata": {},
     "output_type": "execute_result"
    }
   ],
   "source": [
    "data['Date Joined'].nunique()"
   ]
  },
  {
   "cell_type": "markdown",
   "id": "e2554daf",
   "metadata": {},
   "source": [
    "- Here only requirement is to change the date joined into datetime dtype\n",
    "- it is only time series columns"
   ]
  },
  {
   "cell_type": "code",
   "execution_count": 13,
   "id": "c9469e04",
   "metadata": {},
   "outputs": [
    {
     "data": {
      "text/plain": [
       "5"
      ]
     },
     "execution_count": 13,
     "metadata": {},
     "output_type": "execute_result"
    }
   ],
   "source": [
    "data['Department'].nunique()"
   ]
  },
  {
   "cell_type": "code",
   "execution_count": 14,
   "id": "78eb7262",
   "metadata": {},
   "outputs": [
    {
     "data": {
      "text/plain": [
       "Procurement    55\n",
       "Website        54\n",
       "Finance        38\n",
       "Sales          28\n",
       "HR              8\n",
       "Name: Department, dtype: int64"
      ]
     },
     "execution_count": 14,
     "metadata": {},
     "output_type": "execute_result"
    }
   ],
   "source": [
    "data['Department'].value_counts()"
   ]
  },
  {
   "cell_type": "markdown",
   "id": "37d22063",
   "metadata": {},
   "source": [
    "- it is one of the important categorical column we have"
   ]
  },
  {
   "cell_type": "code",
   "execution_count": 15,
   "id": "a172b885",
   "metadata": {},
   "outputs": [
    {
     "data": {
      "text/plain": [
       "0      $112,650 \n",
       "1       $43,840 \n",
       "2      $103,550 \n",
       "3       $45,510 \n",
       "4      $115,440 \n",
       "         ...    \n",
       "178     $75,280 \n",
       "179     $74,550 \n",
       "180     $67,950 \n",
       "181     $70,270 \n",
       "182     $53,540 \n",
       "Name: Salary, Length: 183, dtype: object"
      ]
     },
     "execution_count": 15,
     "metadata": {},
     "output_type": "execute_result"
    }
   ],
   "source": [
    "data['Salary']"
   ]
  },
  {
   "cell_type": "markdown",
   "id": "eebdb1d5",
   "metadata": {},
   "source": [
    "- it should be int or float type data for better analysis"
   ]
  },
  {
   "cell_type": "code",
   "execution_count": 16,
   "id": "e89b8cbf",
   "metadata": {},
   "outputs": [
    {
     "data": {
      "text/plain": [
       "2"
      ]
     },
     "execution_count": 16,
     "metadata": {},
     "output_type": "execute_result"
    }
   ],
   "source": [
    "data['Country'].nunique()"
   ]
  },
  {
   "cell_type": "code",
   "execution_count": 17,
   "id": "b9f06203",
   "metadata": {},
   "outputs": [
    {
     "data": {
      "text/plain": [
       "IND    92\n",
       "NZ     91\n",
       "Name: Country, dtype: int64"
      ]
     },
     "execution_count": 17,
     "metadata": {},
     "output_type": "execute_result"
    }
   ],
   "source": [
    "data['Country'].value_counts()"
   ]
  },
  {
   "cell_type": "markdown",
   "id": "5a51672e",
   "metadata": {},
   "source": [
    "- Here we have employees of only two countries IND and NZ"
   ]
  },
  {
   "cell_type": "code",
   "execution_count": 18,
   "id": "3e83bc8e",
   "metadata": {},
   "outputs": [
    {
     "data": {
      "text/plain": [
       "0"
      ]
     },
     "execution_count": 18,
     "metadata": {},
     "output_type": "execute_result"
    }
   ],
   "source": [
    "# to check duplicates\n",
    "data.duplicated().sum()"
   ]
  },
  {
   "cell_type": "markdown",
   "id": "4a714f12",
   "metadata": {},
   "source": [
    "# step 4: Data Cleaning"
   ]
  },
  {
   "cell_type": "markdown",
   "id": "bfe45089",
   "metadata": {},
   "source": [
    "1. Drop Name Column because it has all unique values"
   ]
  },
  {
   "cell_type": "code",
   "execution_count": 19,
   "id": "759f4902",
   "metadata": {},
   "outputs": [],
   "source": [
    "data=data.drop(columns='Name')"
   ]
  },
  {
   "cell_type": "code",
   "execution_count": 20,
   "id": "3b200603",
   "metadata": {},
   "outputs": [
    {
     "data": {
      "text/html": [
       "<div>\n",
       "<style scoped>\n",
       "    .dataframe tbody tr th:only-of-type {\n",
       "        vertical-align: middle;\n",
       "    }\n",
       "\n",
       "    .dataframe tbody tr th {\n",
       "        vertical-align: top;\n",
       "    }\n",
       "\n",
       "    .dataframe thead th {\n",
       "        text-align: right;\n",
       "    }\n",
       "</style>\n",
       "<table border=\"1\" class=\"dataframe\">\n",
       "  <thead>\n",
       "    <tr style=\"text-align: right;\">\n",
       "      <th></th>\n",
       "      <th>Gender</th>\n",
       "      <th>Age</th>\n",
       "      <th>Rating</th>\n",
       "      <th>Date Joined</th>\n",
       "      <th>Department</th>\n",
       "      <th>Salary</th>\n",
       "      <th>Country</th>\n",
       "    </tr>\n",
       "  </thead>\n",
       "  <tbody>\n",
       "    <tr>\n",
       "      <th>0</th>\n",
       "      <td>Male</td>\n",
       "      <td>20</td>\n",
       "      <td>Average</td>\n",
       "      <td>18-Oct-20</td>\n",
       "      <td>Website</td>\n",
       "      <td>$112,650</td>\n",
       "      <td>IND</td>\n",
       "    </tr>\n",
       "    <tr>\n",
       "      <th>1</th>\n",
       "      <td>Male</td>\n",
       "      <td>32</td>\n",
       "      <td>Above average</td>\n",
       "      <td>7-Apr-21</td>\n",
       "      <td>Website</td>\n",
       "      <td>$43,840</td>\n",
       "      <td>IND</td>\n",
       "    </tr>\n",
       "    <tr>\n",
       "      <th>2</th>\n",
       "      <td>Female</td>\n",
       "      <td>31</td>\n",
       "      <td>Average</td>\n",
       "      <td>12-Apr-22</td>\n",
       "      <td>Procurement</td>\n",
       "      <td>$103,550</td>\n",
       "      <td>IND</td>\n",
       "    </tr>\n",
       "    <tr>\n",
       "      <th>3</th>\n",
       "      <td>Male</td>\n",
       "      <td>32</td>\n",
       "      <td>Average</td>\n",
       "      <td>23-May-21</td>\n",
       "      <td>HR</td>\n",
       "      <td>$45,510</td>\n",
       "      <td>IND</td>\n",
       "    </tr>\n",
       "    <tr>\n",
       "      <th>4</th>\n",
       "      <td>Female</td>\n",
       "      <td>37</td>\n",
       "      <td>Poor</td>\n",
       "      <td>11-Sep-20</td>\n",
       "      <td>Finance</td>\n",
       "      <td>$115,440</td>\n",
       "      <td>IND</td>\n",
       "    </tr>\n",
       "    <tr>\n",
       "      <th>...</th>\n",
       "      <td>...</td>\n",
       "      <td>...</td>\n",
       "      <td>...</td>\n",
       "      <td>...</td>\n",
       "      <td>...</td>\n",
       "      <td>...</td>\n",
       "      <td>...</td>\n",
       "    </tr>\n",
       "    <tr>\n",
       "      <th>178</th>\n",
       "      <td>Female</td>\n",
       "      <td>33</td>\n",
       "      <td>Average</td>\n",
       "      <td>26-Apr-21</td>\n",
       "      <td>Website</td>\n",
       "      <td>$75,280</td>\n",
       "      <td>NZ</td>\n",
       "    </tr>\n",
       "    <tr>\n",
       "      <th>179</th>\n",
       "      <td>Male</td>\n",
       "      <td>33</td>\n",
       "      <td>Average</td>\n",
       "      <td>8-Jul-21</td>\n",
       "      <td>Sales</td>\n",
       "      <td>$74,550</td>\n",
       "      <td>NZ</td>\n",
       "    </tr>\n",
       "    <tr>\n",
       "      <th>180</th>\n",
       "      <td>Male</td>\n",
       "      <td>30</td>\n",
       "      <td>Average</td>\n",
       "      <td>20-May-22</td>\n",
       "      <td>Procurement</td>\n",
       "      <td>$67,950</td>\n",
       "      <td>NZ</td>\n",
       "    </tr>\n",
       "    <tr>\n",
       "      <th>181</th>\n",
       "      <td>Male</td>\n",
       "      <td>42</td>\n",
       "      <td>Poor</td>\n",
       "      <td>19-Jun-22</td>\n",
       "      <td>Finance</td>\n",
       "      <td>$70,270</td>\n",
       "      <td>NZ</td>\n",
       "    </tr>\n",
       "    <tr>\n",
       "      <th>182</th>\n",
       "      <td>Male</td>\n",
       "      <td>26</td>\n",
       "      <td>Average</td>\n",
       "      <td>3-Aug-21</td>\n",
       "      <td>Procurement</td>\n",
       "      <td>$53,540</td>\n",
       "      <td>NZ</td>\n",
       "    </tr>\n",
       "  </tbody>\n",
       "</table>\n",
       "<p>183 rows × 7 columns</p>\n",
       "</div>"
      ],
      "text/plain": [
       "     Gender  Age         Rating Date Joined   Department     Salary Country\n",
       "0      Male   20        Average   18-Oct-20      Website  $112,650      IND\n",
       "1      Male   32  Above average    7-Apr-21      Website   $43,840      IND\n",
       "2    Female   31        Average   12-Apr-22  Procurement  $103,550      IND\n",
       "3      Male   32        Average   23-May-21           HR   $45,510      IND\n",
       "4    Female   37           Poor   11-Sep-20      Finance  $115,440      IND\n",
       "..      ...  ...            ...         ...          ...        ...     ...\n",
       "178  Female   33        Average   26-Apr-21      Website   $75,280       NZ\n",
       "179    Male   33        Average    8-Jul-21        Sales   $74,550       NZ\n",
       "180    Male   30        Average   20-May-22  Procurement   $67,950       NZ\n",
       "181    Male   42           Poor   19-Jun-22      Finance   $70,270       NZ\n",
       "182    Male   26        Average    3-Aug-21  Procurement   $53,540       NZ\n",
       "\n",
       "[183 rows x 7 columns]"
      ]
     },
     "execution_count": 20,
     "metadata": {},
     "output_type": "execute_result"
    }
   ],
   "source": [
    "data"
   ]
  },
  {
   "cell_type": "code",
   "execution_count": 21,
   "id": "f053f99c",
   "metadata": {},
   "outputs": [
    {
     "data": {
      "text/html": [
       "<div>\n",
       "<style scoped>\n",
       "    .dataframe tbody tr th:only-of-type {\n",
       "        vertical-align: middle;\n",
       "    }\n",
       "\n",
       "    .dataframe tbody tr th {\n",
       "        vertical-align: top;\n",
       "    }\n",
       "\n",
       "    .dataframe thead th {\n",
       "        text-align: right;\n",
       "    }\n",
       "</style>\n",
       "<table border=\"1\" class=\"dataframe\">\n",
       "  <thead>\n",
       "    <tr style=\"text-align: right;\">\n",
       "      <th></th>\n",
       "      <th>Gender</th>\n",
       "      <th>Age</th>\n",
       "      <th>Rating</th>\n",
       "      <th>Date Joined</th>\n",
       "      <th>Department</th>\n",
       "      <th>Salary</th>\n",
       "      <th>Country</th>\n",
       "    </tr>\n",
       "  </thead>\n",
       "  <tbody>\n",
       "    <tr>\n",
       "      <th>51</th>\n",
       "      <td>Other</td>\n",
       "      <td>27</td>\n",
       "      <td>Above average</td>\n",
       "      <td>16-Jan-21</td>\n",
       "      <td>Website</td>\n",
       "      <td>$90,700</td>\n",
       "      <td>IND</td>\n",
       "    </tr>\n",
       "    <tr>\n",
       "      <th>55</th>\n",
       "      <td>Other</td>\n",
       "      <td>30</td>\n",
       "      <td>Average</td>\n",
       "      <td>5-Dec-21</td>\n",
       "      <td>Finance</td>\n",
       "      <td>$64,000</td>\n",
       "      <td>IND</td>\n",
       "    </tr>\n",
       "    <tr>\n",
       "      <th>95</th>\n",
       "      <td>Other</td>\n",
       "      <td>37</td>\n",
       "      <td>Poor</td>\n",
       "      <td>11-Nov-20</td>\n",
       "      <td>Finance</td>\n",
       "      <td>$115,440</td>\n",
       "      <td>NZ</td>\n",
       "    </tr>\n",
       "    <tr>\n",
       "      <th>116</th>\n",
       "      <td>Other</td>\n",
       "      <td>30</td>\n",
       "      <td>Average</td>\n",
       "      <td>5-Feb-22</td>\n",
       "      <td>Finance</td>\n",
       "      <td>$64,000</td>\n",
       "      <td>NZ</td>\n",
       "    </tr>\n",
       "    <tr>\n",
       "      <th>153</th>\n",
       "      <td>Other</td>\n",
       "      <td>32</td>\n",
       "      <td>Average</td>\n",
       "      <td>1-Aug-22</td>\n",
       "      <td>Website</td>\n",
       "      <td>$91,310</td>\n",
       "      <td>NZ</td>\n",
       "    </tr>\n",
       "    <tr>\n",
       "      <th>156</th>\n",
       "      <td>Other</td>\n",
       "      <td>26</td>\n",
       "      <td>Above average</td>\n",
       "      <td>16-Mar-21</td>\n",
       "      <td>Website</td>\n",
       "      <td>$90,700</td>\n",
       "      <td>NZ</td>\n",
       "    </tr>\n",
       "  </tbody>\n",
       "</table>\n",
       "</div>"
      ],
      "text/plain": [
       "    Gender  Age         Rating Date Joined Department     Salary Country\n",
       "51   Other   27  Above average   16-Jan-21    Website   $90,700      IND\n",
       "55   Other   30        Average    5-Dec-21    Finance   $64,000      IND\n",
       "95   Other   37           Poor   11-Nov-20    Finance  $115,440       NZ\n",
       "116  Other   30        Average    5-Feb-22    Finance   $64,000       NZ\n",
       "153  Other   32        Average    1-Aug-22    Website   $91,310       NZ\n",
       "156  Other   26  Above average   16-Mar-21    Website   $90,700       NZ"
      ]
     },
     "execution_count": 21,
     "metadata": {},
     "output_type": "execute_result"
    }
   ],
   "source": [
    "data[data['Gender']=='Other']"
   ]
  },
  {
   "cell_type": "code",
   "execution_count": 22,
   "id": "5807116a",
   "metadata": {},
   "outputs": [],
   "source": [
    "data['Date Joined'] = pd.to_datetime(data['Date Joined'], format='%d-%b-%y')"
   ]
  },
  {
   "cell_type": "code",
   "execution_count": 23,
   "id": "72511071",
   "metadata": {},
   "outputs": [
    {
     "data": {
      "text/html": [
       "<div>\n",
       "<style scoped>\n",
       "    .dataframe tbody tr th:only-of-type {\n",
       "        vertical-align: middle;\n",
       "    }\n",
       "\n",
       "    .dataframe tbody tr th {\n",
       "        vertical-align: top;\n",
       "    }\n",
       "\n",
       "    .dataframe thead th {\n",
       "        text-align: right;\n",
       "    }\n",
       "</style>\n",
       "<table border=\"1\" class=\"dataframe\">\n",
       "  <thead>\n",
       "    <tr style=\"text-align: right;\">\n",
       "      <th></th>\n",
       "      <th>Gender</th>\n",
       "      <th>Age</th>\n",
       "      <th>Rating</th>\n",
       "      <th>Date Joined</th>\n",
       "      <th>Department</th>\n",
       "      <th>Salary</th>\n",
       "      <th>Country</th>\n",
       "    </tr>\n",
       "  </thead>\n",
       "  <tbody>\n",
       "    <tr>\n",
       "      <th>0</th>\n",
       "      <td>Male</td>\n",
       "      <td>20</td>\n",
       "      <td>Average</td>\n",
       "      <td>2020-10-18</td>\n",
       "      <td>Website</td>\n",
       "      <td>$112,650</td>\n",
       "      <td>IND</td>\n",
       "    </tr>\n",
       "    <tr>\n",
       "      <th>1</th>\n",
       "      <td>Male</td>\n",
       "      <td>32</td>\n",
       "      <td>Above average</td>\n",
       "      <td>2021-04-07</td>\n",
       "      <td>Website</td>\n",
       "      <td>$43,840</td>\n",
       "      <td>IND</td>\n",
       "    </tr>\n",
       "    <tr>\n",
       "      <th>2</th>\n",
       "      <td>Female</td>\n",
       "      <td>31</td>\n",
       "      <td>Average</td>\n",
       "      <td>2022-04-12</td>\n",
       "      <td>Procurement</td>\n",
       "      <td>$103,550</td>\n",
       "      <td>IND</td>\n",
       "    </tr>\n",
       "    <tr>\n",
       "      <th>3</th>\n",
       "      <td>Male</td>\n",
       "      <td>32</td>\n",
       "      <td>Average</td>\n",
       "      <td>2021-05-23</td>\n",
       "      <td>HR</td>\n",
       "      <td>$45,510</td>\n",
       "      <td>IND</td>\n",
       "    </tr>\n",
       "    <tr>\n",
       "      <th>4</th>\n",
       "      <td>Female</td>\n",
       "      <td>37</td>\n",
       "      <td>Poor</td>\n",
       "      <td>2020-09-11</td>\n",
       "      <td>Finance</td>\n",
       "      <td>$115,440</td>\n",
       "      <td>IND</td>\n",
       "    </tr>\n",
       "    <tr>\n",
       "      <th>...</th>\n",
       "      <td>...</td>\n",
       "      <td>...</td>\n",
       "      <td>...</td>\n",
       "      <td>...</td>\n",
       "      <td>...</td>\n",
       "      <td>...</td>\n",
       "      <td>...</td>\n",
       "    </tr>\n",
       "    <tr>\n",
       "      <th>178</th>\n",
       "      <td>Female</td>\n",
       "      <td>33</td>\n",
       "      <td>Average</td>\n",
       "      <td>2021-04-26</td>\n",
       "      <td>Website</td>\n",
       "      <td>$75,280</td>\n",
       "      <td>NZ</td>\n",
       "    </tr>\n",
       "    <tr>\n",
       "      <th>179</th>\n",
       "      <td>Male</td>\n",
       "      <td>33</td>\n",
       "      <td>Average</td>\n",
       "      <td>2021-07-08</td>\n",
       "      <td>Sales</td>\n",
       "      <td>$74,550</td>\n",
       "      <td>NZ</td>\n",
       "    </tr>\n",
       "    <tr>\n",
       "      <th>180</th>\n",
       "      <td>Male</td>\n",
       "      <td>30</td>\n",
       "      <td>Average</td>\n",
       "      <td>2022-05-20</td>\n",
       "      <td>Procurement</td>\n",
       "      <td>$67,950</td>\n",
       "      <td>NZ</td>\n",
       "    </tr>\n",
       "    <tr>\n",
       "      <th>181</th>\n",
       "      <td>Male</td>\n",
       "      <td>42</td>\n",
       "      <td>Poor</td>\n",
       "      <td>2022-06-19</td>\n",
       "      <td>Finance</td>\n",
       "      <td>$70,270</td>\n",
       "      <td>NZ</td>\n",
       "    </tr>\n",
       "    <tr>\n",
       "      <th>182</th>\n",
       "      <td>Male</td>\n",
       "      <td>26</td>\n",
       "      <td>Average</td>\n",
       "      <td>2021-08-03</td>\n",
       "      <td>Procurement</td>\n",
       "      <td>$53,540</td>\n",
       "      <td>NZ</td>\n",
       "    </tr>\n",
       "  </tbody>\n",
       "</table>\n",
       "<p>183 rows × 7 columns</p>\n",
       "</div>"
      ],
      "text/plain": [
       "     Gender  Age         Rating Date Joined   Department     Salary Country\n",
       "0      Male   20        Average  2020-10-18      Website  $112,650      IND\n",
       "1      Male   32  Above average  2021-04-07      Website   $43,840      IND\n",
       "2    Female   31        Average  2022-04-12  Procurement  $103,550      IND\n",
       "3      Male   32        Average  2021-05-23           HR   $45,510      IND\n",
       "4    Female   37           Poor  2020-09-11      Finance  $115,440      IND\n",
       "..      ...  ...            ...         ...          ...        ...     ...\n",
       "178  Female   33        Average  2021-04-26      Website   $75,280       NZ\n",
       "179    Male   33        Average  2021-07-08        Sales   $74,550       NZ\n",
       "180    Male   30        Average  2022-05-20  Procurement   $67,950       NZ\n",
       "181    Male   42           Poor  2022-06-19      Finance   $70,270       NZ\n",
       "182    Male   26        Average  2021-08-03  Procurement   $53,540       NZ\n",
       "\n",
       "[183 rows x 7 columns]"
      ]
     },
     "execution_count": 23,
     "metadata": {},
     "output_type": "execute_result"
    }
   ],
   "source": [
    "data"
   ]
  },
  {
   "cell_type": "markdown",
   "id": "c0ad24ef",
   "metadata": {},
   "source": [
    "- Here we have convert Date Joined column into proper formatting"
   ]
  },
  {
   "cell_type": "code",
   "execution_count": 24,
   "id": "ce00c974",
   "metadata": {},
   "outputs": [
    {
     "name": "stdout",
     "output_type": "stream",
     "text": [
      "<class 'pandas.core.frame.DataFrame'>\n",
      "RangeIndex: 183 entries, 0 to 182\n",
      "Data columns (total 7 columns):\n",
      " #   Column       Non-Null Count  Dtype         \n",
      "---  ------       --------------  -----         \n",
      " 0   Gender       183 non-null    object        \n",
      " 1   Age          183 non-null    int64         \n",
      " 2   Rating       183 non-null    object        \n",
      " 3   Date Joined  183 non-null    datetime64[ns]\n",
      " 4   Department   183 non-null    object        \n",
      " 5   Salary       183 non-null    object        \n",
      " 6   Country      183 non-null    object        \n",
      "dtypes: datetime64[ns](1), int64(1), object(5)\n",
      "memory usage: 10.1+ KB\n"
     ]
    }
   ],
   "source": [
    "data.info()"
   ]
  },
  {
   "cell_type": "markdown",
   "id": "3c95049a",
   "metadata": {},
   "source": [
    "- Now we have to convert Salary into numeric data for better analysis"
   ]
  },
  {
   "cell_type": "code",
   "execution_count": 25,
   "id": "27044dba",
   "metadata": {},
   "outputs": [],
   "source": [
    "data['Salary'] = data['Salary'].str.replace('$', '', regex=True)  # Remove dollar sign\n",
    "data['Salary'] = data['Salary'].str.replace(',', '', regex=True)  # Remove commas\n",
    "data['Salary'] = pd.to_numeric(data['Salary'])  # Convert to numeric"
   ]
  },
  {
   "cell_type": "code",
   "execution_count": 26,
   "id": "4cd15f10",
   "metadata": {},
   "outputs": [
    {
     "name": "stdout",
     "output_type": "stream",
     "text": [
      "<class 'pandas.core.frame.DataFrame'>\n",
      "RangeIndex: 183 entries, 0 to 182\n",
      "Data columns (total 7 columns):\n",
      " #   Column       Non-Null Count  Dtype         \n",
      "---  ------       --------------  -----         \n",
      " 0   Gender       183 non-null    object        \n",
      " 1   Age          183 non-null    int64         \n",
      " 2   Rating       183 non-null    object        \n",
      " 3   Date Joined  183 non-null    datetime64[ns]\n",
      " 4   Department   183 non-null    object        \n",
      " 5   Salary       183 non-null    int64         \n",
      " 6   Country      183 non-null    object        \n",
      "dtypes: datetime64[ns](1), int64(2), object(4)\n",
      "memory usage: 10.1+ KB\n"
     ]
    }
   ],
   "source": [
    "data.info()"
   ]
  },
  {
   "cell_type": "code",
   "execution_count": 27,
   "id": "13b34cbc",
   "metadata": {},
   "outputs": [],
   "source": [
    "continuous=['Age','Salary']\n",
    "discrete_categorical=['Gender','Rating','Department','Country']\n",
    "time_series=['Date Joined']"
   ]
  },
  {
   "cell_type": "markdown",
   "id": "c49964bc",
   "metadata": {},
   "source": [
    "- Till now **Data Cleaning** has been finished\n",
    "- Now Data Analysis"
   ]
  },
  {
   "cell_type": "markdown",
   "id": "6be26a12",
   "metadata": {},
   "source": [
    "**Descriptive Statistical Analysis**"
   ]
  },
  {
   "cell_type": "code",
   "execution_count": 28,
   "id": "98adf7ad",
   "metadata": {},
   "outputs": [
    {
     "data": {
      "text/html": [
       "<div>\n",
       "<style scoped>\n",
       "    .dataframe tbody tr th:only-of-type {\n",
       "        vertical-align: middle;\n",
       "    }\n",
       "\n",
       "    .dataframe tbody tr th {\n",
       "        vertical-align: top;\n",
       "    }\n",
       "\n",
       "    .dataframe thead th {\n",
       "        text-align: right;\n",
       "    }\n",
       "</style>\n",
       "<table border=\"1\" class=\"dataframe\">\n",
       "  <thead>\n",
       "    <tr style=\"text-align: right;\">\n",
       "      <th></th>\n",
       "      <th>Age</th>\n",
       "      <th>Salary</th>\n",
       "    </tr>\n",
       "  </thead>\n",
       "  <tbody>\n",
       "    <tr>\n",
       "      <th>count</th>\n",
       "      <td>183.000000</td>\n",
       "      <td>183.000000</td>\n",
       "    </tr>\n",
       "    <tr>\n",
       "      <th>mean</th>\n",
       "      <td>30.480874</td>\n",
       "      <td>77173.715847</td>\n",
       "    </tr>\n",
       "    <tr>\n",
       "      <th>std</th>\n",
       "      <td>6.173180</td>\n",
       "      <td>24842.585100</td>\n",
       "    </tr>\n",
       "    <tr>\n",
       "      <th>min</th>\n",
       "      <td>20.000000</td>\n",
       "      <td>33920.000000</td>\n",
       "    </tr>\n",
       "    <tr>\n",
       "      <th>25%</th>\n",
       "      <td>27.000000</td>\n",
       "      <td>56980.000000</td>\n",
       "    </tr>\n",
       "    <tr>\n",
       "      <th>50%</th>\n",
       "      <td>30.000000</td>\n",
       "      <td>75000.000000</td>\n",
       "    </tr>\n",
       "    <tr>\n",
       "      <th>75%</th>\n",
       "      <td>34.000000</td>\n",
       "      <td>99970.000000</td>\n",
       "    </tr>\n",
       "    <tr>\n",
       "      <th>max</th>\n",
       "      <td>50.000000</td>\n",
       "      <td>119110.000000</td>\n",
       "    </tr>\n",
       "  </tbody>\n",
       "</table>\n",
       "</div>"
      ],
      "text/plain": [
       "              Age         Salary\n",
       "count  183.000000     183.000000\n",
       "mean    30.480874   77173.715847\n",
       "std      6.173180   24842.585100\n",
       "min     20.000000   33920.000000\n",
       "25%     27.000000   56980.000000\n",
       "50%     30.000000   75000.000000\n",
       "75%     34.000000   99970.000000\n",
       "max     50.000000  119110.000000"
      ]
     },
     "execution_count": 28,
     "metadata": {},
     "output_type": "execute_result"
    }
   ],
   "source": [
    "data[continuous].describe()"
   ]
  },
  {
   "cell_type": "code",
   "execution_count": 29,
   "id": "dc906cb4",
   "metadata": {},
   "outputs": [
    {
     "data": {
      "image/png": "[encoded data removed]",
      "text/plain": [
       "<Figure size 640x480 with 1 Axes>"
      ]
     },
     "metadata": {},
     "output_type": "display_data"
    }
   ],
   "source": [
    "sns.boxplot(y=data['Age'])\n",
    "plt.title(\"Age\")\n",
    "plt.tight_layout()\n",
    "plt.show()"
   ]
  },
  {
   "cell_type": "code",
   "execution_count": 30,
   "id": "782ab61c",
   "metadata": {},
   "outputs": [
    {
     "name": "stdout",
     "output_type": "stream",
     "text": [
      "IQR :  7\n",
      "Upper Limit:  44.5\n",
      "Lower Limit:  16.5\n"
     ]
    }
   ],
   "source": [
    "#drop outliers\n",
    "Q1=27\n",
    "Q3=34\n",
    "\n",
    "IQR=Q3-Q1\n",
    "print(\"IQR : \",IQR)\n",
    "\n",
    "low_lim=Q1-(1.5*IQR)\n",
    "up_lim= Q3+(1.5*IQR)\n",
    "\n",
    "print(\"Upper Limit: \",up_lim)\n",
    "print(\"Lower Limit: \",low_lim)"
   ]
  },
  {
   "cell_type": "code",
   "execution_count": 31,
   "id": "d0de189e",
   "metadata": {},
   "outputs": [
    {
     "data": {
      "text/html": [
       "<div>\n",
       "<style scoped>\n",
       "    .dataframe tbody tr th:only-of-type {\n",
       "        vertical-align: middle;\n",
       "    }\n",
       "\n",
       "    .dataframe tbody tr th {\n",
       "        vertical-align: top;\n",
       "    }\n",
       "\n",
       "    .dataframe thead th {\n",
       "        text-align: right;\n",
       "    }\n",
       "</style>\n",
       "<table border=\"1\" class=\"dataframe\">\n",
       "  <thead>\n",
       "    <tr style=\"text-align: right;\">\n",
       "      <th></th>\n",
       "      <th>Gender</th>\n",
       "      <th>Age</th>\n",
       "      <th>Rating</th>\n",
       "      <th>Date Joined</th>\n",
       "      <th>Department</th>\n",
       "      <th>Salary</th>\n",
       "      <th>Country</th>\n",
       "    </tr>\n",
       "  </thead>\n",
       "  <tbody>\n",
       "    <tr>\n",
       "      <th>0</th>\n",
       "      <td>Male</td>\n",
       "      <td>20</td>\n",
       "      <td>Average</td>\n",
       "      <td>2020-10-18</td>\n",
       "      <td>Website</td>\n",
       "      <td>112650</td>\n",
       "      <td>IND</td>\n",
       "    </tr>\n",
       "    <tr>\n",
       "      <th>1</th>\n",
       "      <td>Male</td>\n",
       "      <td>32</td>\n",
       "      <td>Above average</td>\n",
       "      <td>2021-04-07</td>\n",
       "      <td>Website</td>\n",
       "      <td>43840</td>\n",
       "      <td>IND</td>\n",
       "    </tr>\n",
       "    <tr>\n",
       "      <th>2</th>\n",
       "      <td>Female</td>\n",
       "      <td>31</td>\n",
       "      <td>Average</td>\n",
       "      <td>2022-04-12</td>\n",
       "      <td>Procurement</td>\n",
       "      <td>103550</td>\n",
       "      <td>IND</td>\n",
       "    </tr>\n",
       "    <tr>\n",
       "      <th>3</th>\n",
       "      <td>Male</td>\n",
       "      <td>32</td>\n",
       "      <td>Average</td>\n",
       "      <td>2021-05-23</td>\n",
       "      <td>HR</td>\n",
       "      <td>45510</td>\n",
       "      <td>IND</td>\n",
       "    </tr>\n",
       "    <tr>\n",
       "      <th>4</th>\n",
       "      <td>Female</td>\n",
       "      <td>37</td>\n",
       "      <td>Poor</td>\n",
       "      <td>2020-09-11</td>\n",
       "      <td>Finance</td>\n",
       "      <td>115440</td>\n",
       "      <td>IND</td>\n",
       "    </tr>\n",
       "    <tr>\n",
       "      <th>...</th>\n",
       "      <td>...</td>\n",
       "      <td>...</td>\n",
       "      <td>...</td>\n",
       "      <td>...</td>\n",
       "      <td>...</td>\n",
       "      <td>...</td>\n",
       "      <td>...</td>\n",
       "    </tr>\n",
       "    <tr>\n",
       "      <th>178</th>\n",
       "      <td>Female</td>\n",
       "      <td>33</td>\n",
       "      <td>Average</td>\n",
       "      <td>2021-04-26</td>\n",
       "      <td>Website</td>\n",
       "      <td>75280</td>\n",
       "      <td>NZ</td>\n",
       "    </tr>\n",
       "    <tr>\n",
       "      <th>179</th>\n",
       "      <td>Male</td>\n",
       "      <td>33</td>\n",
       "      <td>Average</td>\n",
       "      <td>2021-07-08</td>\n",
       "      <td>Sales</td>\n",
       "      <td>74550</td>\n",
       "      <td>NZ</td>\n",
       "    </tr>\n",
       "    <tr>\n",
       "      <th>180</th>\n",
       "      <td>Male</td>\n",
       "      <td>30</td>\n",
       "      <td>Average</td>\n",
       "      <td>2022-05-20</td>\n",
       "      <td>Procurement</td>\n",
       "      <td>67950</td>\n",
       "      <td>NZ</td>\n",
       "    </tr>\n",
       "    <tr>\n",
       "      <th>181</th>\n",
       "      <td>Male</td>\n",
       "      <td>42</td>\n",
       "      <td>Poor</td>\n",
       "      <td>2022-06-19</td>\n",
       "      <td>Finance</td>\n",
       "      <td>70270</td>\n",
       "      <td>NZ</td>\n",
       "    </tr>\n",
       "    <tr>\n",
       "      <th>182</th>\n",
       "      <td>Male</td>\n",
       "      <td>26</td>\n",
       "      <td>Average</td>\n",
       "      <td>2021-08-03</td>\n",
       "      <td>Procurement</td>\n",
       "      <td>53540</td>\n",
       "      <td>NZ</td>\n",
       "    </tr>\n",
       "  </tbody>\n",
       "</table>\n",
       "<p>181 rows × 7 columns</p>\n",
       "</div>"
      ],
      "text/plain": [
       "     Gender  Age         Rating Date Joined   Department  Salary Country\n",
       "0      Male   20        Average  2020-10-18      Website  112650     IND\n",
       "1      Male   32  Above average  2021-04-07      Website   43840     IND\n",
       "2    Female   31        Average  2022-04-12  Procurement  103550     IND\n",
       "3      Male   32        Average  2021-05-23           HR   45510     IND\n",
       "4    Female   37           Poor  2020-09-11      Finance  115440     IND\n",
       "..      ...  ...            ...         ...          ...     ...     ...\n",
       "178  Female   33        Average  2021-04-26      Website   75280      NZ\n",
       "179    Male   33        Average  2021-07-08        Sales   74550      NZ\n",
       "180    Male   30        Average  2022-05-20  Procurement   67950      NZ\n",
       "181    Male   42           Poor  2022-06-19      Finance   70270      NZ\n",
       "182    Male   26        Average  2021-08-03  Procurement   53540      NZ\n",
       "\n",
       "[181 rows x 7 columns]"
      ]
     },
     "execution_count": 31,
     "metadata": {},
     "output_type": "execute_result"
    }
   ],
   "source": [
    "outlier=data[(data['Age']<low_lim) | (data['Age']>up_lim)]\n",
    "data=data.drop(outlier.index)\n",
    "#outlier_drop()\n",
    "data"
   ]
  },
  {
   "cell_type": "code",
   "execution_count": 99,
   "id": "8a00664d",
   "metadata": {},
   "outputs": [],
   "source": [
    "data.to_csv(\"cleanedhrdata.csv\",index=False)"
   ]
  },
  {
   "cell_type": "code",
   "execution_count": 33,
   "id": "4d55a5e2",
   "metadata": {},
   "outputs": [
    {
     "data": {
      "text/plain": [
       "(181, 7)"
      ]
     },
     "execution_count": 33,
     "metadata": {},
     "output_type": "execute_result"
    }
   ],
   "source": [
    "data.shape"
   ]
  },
  {
   "cell_type": "code",
   "execution_count": 34,
   "id": "96843fe2",
   "metadata": {},
   "outputs": [
    {
     "data": {
      "image/png": "[encoded data removed]",
      "text/plain": [
       "<Figure size 640x480 with 1 Axes>"
      ]
     },
     "metadata": {},
     "output_type": "display_data"
    }
   ],
   "source": [
    "sns.boxplot(y=data['Age'],color='red')\n",
    "plt.show()"
   ]
  },
  {
   "cell_type": "code",
   "execution_count": 35,
   "id": "823a7bed",
   "metadata": {},
   "outputs": [
    {
     "data": {
      "image/png": "[encoded data removed]",
      "text/plain": [
       "<Figure size 640x480 with 1 Axes>"
      ]
     },
     "metadata": {},
     "output_type": "display_data"
    }
   ],
   "source": [
    "sns.boxplot(y=data['Salary'],color='green')\n",
    "plt.show()"
   ]
  },
  {
   "cell_type": "markdown",
   "id": "be729bab",
   "metadata": {},
   "source": [
    "**No outliers in age  and Salary columns**"
   ]
  },
  {
   "cell_type": "code",
   "execution_count": 36,
   "id": "b308cba5",
   "metadata": {},
   "outputs": [
    {
     "data": {
      "text/html": [
       "<div>\n",
       "<style scoped>\n",
       "    .dataframe tbody tr th:only-of-type {\n",
       "        vertical-align: middle;\n",
       "    }\n",
       "\n",
       "    .dataframe tbody tr th {\n",
       "        vertical-align: top;\n",
       "    }\n",
       "\n",
       "    .dataframe thead th {\n",
       "        text-align: right;\n",
       "    }\n",
       "</style>\n",
       "<table border=\"1\" class=\"dataframe\">\n",
       "  <thead>\n",
       "    <tr style=\"text-align: right;\">\n",
       "      <th></th>\n",
       "      <th>Gender</th>\n",
       "      <th>Rating</th>\n",
       "      <th>Department</th>\n",
       "      <th>Country</th>\n",
       "    </tr>\n",
       "  </thead>\n",
       "  <tbody>\n",
       "    <tr>\n",
       "      <th>count</th>\n",
       "      <td>181</td>\n",
       "      <td>181</td>\n",
       "      <td>181</td>\n",
       "      <td>181</td>\n",
       "    </tr>\n",
       "    <tr>\n",
       "      <th>unique</th>\n",
       "      <td>3</td>\n",
       "      <td>5</td>\n",
       "      <td>5</td>\n",
       "      <td>2</td>\n",
       "    </tr>\n",
       "    <tr>\n",
       "      <th>top</th>\n",
       "      <td>Male</td>\n",
       "      <td>Average</td>\n",
       "      <td>Website</td>\n",
       "      <td>IND</td>\n",
       "    </tr>\n",
       "    <tr>\n",
       "      <th>freq</th>\n",
       "      <td>90</td>\n",
       "      <td>135</td>\n",
       "      <td>54</td>\n",
       "      <td>91</td>\n",
       "    </tr>\n",
       "  </tbody>\n",
       "</table>\n",
       "</div>"
      ],
      "text/plain": [
       "       Gender   Rating Department Country\n",
       "count     181      181        181     181\n",
       "unique      3        5          5       2\n",
       "top      Male  Average    Website     IND\n",
       "freq       90      135         54      91"
      ]
     },
     "execution_count": 36,
     "metadata": {},
     "output_type": "execute_result"
    }
   ],
   "source": [
    "data[discrete_categorical].describe()"
   ]
  },
  {
   "cell_type": "code",
   "execution_count": 37,
   "id": "fdc5f0b5",
   "metadata": {},
   "outputs": [
    {
     "data": {
      "text/plain": [
       "Gender         0\n",
       "Age            0\n",
       "Rating         0\n",
       "Date Joined    0\n",
       "Department     0\n",
       "Salary         0\n",
       "Country        0\n",
       "dtype: int64"
      ]
     },
     "execution_count": 37,
     "metadata": {},
     "output_type": "execute_result"
    }
   ],
   "source": [
    "data.isnull().sum()"
   ]
  },
  {
   "cell_type": "markdown",
   "id": "76471601",
   "metadata": {},
   "source": [
    "**1. What is the distribution of employees by gender?**"
   ]
  },
  {
   "cell_type": "code",
   "execution_count": 38,
   "id": "724ca0bd",
   "metadata": {},
   "outputs": [
    {
     "data": {
      "text/plain": [
       "Male      90\n",
       "Female    85\n",
       "Other      6\n",
       "Name: Gender, dtype: int64"
      ]
     },
     "execution_count": 38,
     "metadata": {},
     "output_type": "execute_result"
    }
   ],
   "source": [
    "data['Gender'].value_counts()"
   ]
  },
  {
   "cell_type": "code",
   "execution_count": 39,
   "id": "20d1b59e",
   "metadata": {},
   "outputs": [
    {
     "data": {
      "image/png": "[encoded data removed]",
      "text/plain": [
       "<Figure size 640x480 with 1 Axes>"
      ]
     },
     "metadata": {},
     "output_type": "display_data"
    }
   ],
   "source": [
    "sns.countplot(x=data['Gender'])\n",
    "plt.title(\"Gender Distribution of Employee\")\n",
    "plt.show()"
   ]
  },
  {
   "cell_type": "markdown",
   "id": "15e6e374",
   "metadata": {},
   "source": [
    "**Observations**\n",
    "- This plot shows the graphical representation of Gender wise employee\n",
    "- 90 Males, 85 Females and 6 Others"
   ]
  },
  {
   "cell_type": "markdown",
   "id": "7a6039fc",
   "metadata": {},
   "source": [
    "**2. What percentage of employees are male, female and other?**"
   ]
  },
  {
   "cell_type": "code",
   "execution_count": 40,
   "id": "d32e3d6c",
   "metadata": {},
   "outputs": [
    {
     "data": {
      "image/png": "[encoded data removed]",
      "text/plain": [
       "<Figure size 640x480 with 1 Axes>"
      ]
     },
     "metadata": {},
     "output_type": "display_data"
    }
   ],
   "source": [
    "plt.pie(x=data['Gender'].value_counts(),\n",
    "       labels=data['Gender'].value_counts().index.tolist(),\n",
    "       autopct=\"%0.1f%%\")\n",
    "plt.legend()\n",
    "plt.title(\"Percentage of Employees Gender Wise\")\n",
    "plt.tight_layout()\n",
    "plt.show()"
   ]
  },
  {
   "cell_type": "markdown",
   "id": "f83e67bd",
   "metadata": {},
   "source": [
    "**Observation**\n",
    "- Total 49.7 % of Male employee\n",
    "- 47 % of Female employee\n",
    "- only 3.3 % other gender employee are there"
   ]
  },
  {
   "cell_type": "markdown",
   "id": "b8f28b57",
   "metadata": {},
   "source": [
    "**3. What percentage of employees belong to each country gender wise?**"
   ]
  },
  {
   "cell_type": "code",
   "execution_count": 41,
   "id": "c0978210",
   "metadata": {},
   "outputs": [
    {
     "data": {
      "text/plain": [
       "Country  Gender\n",
       "IND      Male      47\n",
       "         Female    42\n",
       "         Other      2\n",
       "NZ       Female    43\n",
       "         Male      43\n",
       "         Other      4\n",
       "Name: Gender, dtype: int64"
      ]
     },
     "execution_count": 41,
     "metadata": {},
     "output_type": "execute_result"
    }
   ],
   "source": [
    "data.groupby('Country')['Gender'].value_counts()"
   ]
  },
  {
   "cell_type": "code",
   "execution_count": 42,
   "id": "0059d928",
   "metadata": {},
   "outputs": [
    {
     "data": {
      "image/png": "[encoded data removed]",
      "text/plain": [
       "<Figure size 640x480 with 1 Axes>"
      ]
     },
     "metadata": {},
     "output_type": "display_data"
    }
   ],
   "source": [
    "plt.pie(x=data.groupby('Country')['Gender'].value_counts(),\n",
    "       labels=data.groupby('Country')['Gender'].value_counts().index.tolist(),\n",
    "       autopct='%0.1f%%')\n",
    "plt.legend(loc='upper right',bbox_to_anchor=(1.7,0.8))\n",
    "plt.title(\"Country and Gender wise employee\")\n",
    "plt.tight_layout()\n",
    "plt.show()"
   ]
  },
  {
   "cell_type": "markdown",
   "id": "e37e8faf",
   "metadata": {},
   "source": [
    "**Observation**\n",
    "- From Total Employee 26% Males, 23.2% Females and 1.1% others employee belongs to India\n",
    "- From Total Employee 23.8% Males, 23.8% Females and 3.3% others employee belongs to NewZealand"
   ]
  },
  {
   "cell_type": "markdown",
   "id": "c605dcba",
   "metadata": {},
   "source": [
    "**4. How many employees are there in each country?**"
   ]
  },
  {
   "cell_type": "code",
   "execution_count": 43,
   "id": "85d82df0",
   "metadata": {},
   "outputs": [
    {
     "data": {
      "text/plain": [
       "IND    91\n",
       "NZ     90\n",
       "Name: Country, dtype: int64"
      ]
     },
     "execution_count": 43,
     "metadata": {},
     "output_type": "execute_result"
    }
   ],
   "source": [
    "data['Country'].value_counts()"
   ]
  },
  {
   "cell_type": "code",
   "execution_count": 44,
   "id": "57f7ba4e",
   "metadata": {},
   "outputs": [
    {
     "data": {
      "image/png": "[encoded data removed]",
      "text/plain": [
       "<Figure size 640x480 with 1 Axes>"
      ]
     },
     "metadata": {},
     "output_type": "display_data"
    }
   ],
   "source": [
    "ax=sns.countplot(x=data['Country'])\n",
    "# Add count annotations on the bars\n",
    "for p in ax.patches:\n",
    "    ax.annotate(f'{int(p.get_height())}', \n",
    "                (p.get_x() + p.get_width() / 2., p.get_height()), \n",
    "                ha='center', va='center', \n",
    "                xytext=(0, 5), textcoords='offset points')\n",
    "plt.title(\"No. of Employees in Each Country\")\n",
    "plt.show()"
   ]
  },
  {
   "cell_type": "markdown",
   "id": "216a2970",
   "metadata": {},
   "source": [
    "**Observation**\n",
    "- 91 Employees out of 181 belongs to India\n",
    "- 90 Employees belongs to New Zealand"
   ]
  },
  {
   "cell_type": "markdown",
   "id": "59026db0",
   "metadata": {},
   "source": [
    "**5. How many employees work in each department?**"
   ]
  },
  {
   "cell_type": "code",
   "execution_count": 45,
   "id": "fe192605",
   "metadata": {},
   "outputs": [
    {
     "data": {
      "text/plain": [
       "Website        54\n",
       "Procurement    53\n",
       "Finance        38\n",
       "Sales          28\n",
       "HR              8\n",
       "Name: Department, dtype: int64"
      ]
     },
     "execution_count": 45,
     "metadata": {},
     "output_type": "execute_result"
    }
   ],
   "source": [
    "data['Department'].value_counts()"
   ]
  },
  {
   "cell_type": "code",
   "execution_count": 46,
   "id": "5ff2bb2a",
   "metadata": {},
   "outputs": [
    {
     "data": {
      "image/png": "[encoded data removed]",
      "text/plain": [
       "<Figure size 640x480 with 1 Axes>"
      ]
     },
     "metadata": {},
     "output_type": "display_data"
    }
   ],
   "source": [
    "ax=sns.countplot(x=data['Department'])\n",
    "# Add count annotations on the bars\n",
    "for p in ax.patches:\n",
    "    ax.annotate(f'{int(p.get_height())}', \n",
    "                (p.get_x() + p.get_width() / 2., p.get_height()), \n",
    "                ha='center', va='center', \n",
    "                xytext=(0, 5), textcoords='offset points')\n",
    "plt.title(\"No. of Employees in each Department\")\n",
    "plt.show()"
   ]
  },
  {
   "cell_type": "markdown",
   "id": "b7030c18",
   "metadata": {},
   "source": [
    "**Observation**\n",
    "- Website Department has **most** number of employees i.e. 54 followed by Procurement i.e. 53\n",
    "- HR Department has **least** number of employees i.e. 8 only"
   ]
  },
  {
   "cell_type": "markdown",
   "id": "3bc9edeb",
   "metadata": {},
   "source": [
    "**6. What is the gender distribution within each department?**"
   ]
  },
  {
   "cell_type": "code",
   "execution_count": 47,
   "id": "74f281c4",
   "metadata": {},
   "outputs": [
    {
     "data": {
      "text/plain": [
       "Department   Gender\n",
       "Finance      Female    19\n",
       "             Male      16\n",
       "             Other      3\n",
       "HR           Female     5\n",
       "             Male       3\n",
       "Procurement  Male      30\n",
       "             Female    23\n",
       "Sales        Male      17\n",
       "             Female    11\n",
       "Website      Female    27\n",
       "             Male      24\n",
       "             Other      3\n",
       "Name: Gender, dtype: int64"
      ]
     },
     "execution_count": 47,
     "metadata": {},
     "output_type": "execute_result"
    }
   ],
   "source": [
    "data.groupby('Department')['Gender'].value_counts()"
   ]
  },
  {
   "cell_type": "code",
   "execution_count": 48,
   "id": "5952d742",
   "metadata": {},
   "outputs": [
    {
     "data": {
      "image/png": "[encoded data removed]",
      "text/plain": [
       "<Figure size 640x480 with 1 Axes>"
      ]
     },
     "metadata": {},
     "output_type": "display_data"
    }
   ],
   "source": [
    "grouped_data = data.groupby('Department')['Gender'].value_counts().unstack()\n",
    "grouped_data.plot(kind='bar', stacked=False)\n",
    "plt.xlabel('Department',fontsize=12)\n",
    "plt.ylabel('No. of Employees',fontsize=12)\n",
    "plt.title(\"Gender Distribution within each Department\")\n",
    "plt.xticks(rotation=0)\n",
    "plt.tight_layout()\n",
    "plt.show()"
   ]
  },
  {
   "cell_type": "markdown",
   "id": "1806662f",
   "metadata": {},
   "source": [
    "**Observation**\n",
    "- In Finance there are 19 females, 16 males and 3 others gender employee\n",
    "- In HR 5 Female and 3 Males are working\n",
    "- In Procurement 30 males and 23 females are working\n",
    "- In Sales 17 Males and 11 Females are working\n",
    "- In Website department 27 females,24 males and 3 others are working \n",
    "- Most of the Females are working in Website Department and least in HR\n",
    "- Most of the Males are working in Procurement"
   ]
  },
  {
   "cell_type": "markdown",
   "id": "ef5e69f4",
   "metadata": {},
   "source": [
    "**7. What are the average, median, minimum, and maximum salaries in the dataset?**"
   ]
  },
  {
   "cell_type": "code",
   "execution_count": 49,
   "id": "868db2e3",
   "metadata": {},
   "outputs": [
    {
     "data": {
      "text/plain": [
       "77246.24309392265"
      ]
     },
     "execution_count": 49,
     "metadata": {},
     "output_type": "execute_result"
    }
   ],
   "source": [
    "data['Salary'].mean()"
   ]
  },
  {
   "cell_type": "code",
   "execution_count": 50,
   "id": "bea117b9",
   "metadata": {},
   "outputs": [
    {
     "data": {
      "text/plain": [
       "75280.0"
      ]
     },
     "execution_count": 50,
     "metadata": {},
     "output_type": "execute_result"
    }
   ],
   "source": [
    "data['Salary'].median()"
   ]
  },
  {
   "cell_type": "code",
   "execution_count": 51,
   "id": "35e7a5e9",
   "metadata": {},
   "outputs": [
    {
     "data": {
      "text/plain": [
       "33920"
      ]
     },
     "execution_count": 51,
     "metadata": {},
     "output_type": "execute_result"
    }
   ],
   "source": [
    "data['Salary'].min()"
   ]
  },
  {
   "cell_type": "code",
   "execution_count": 52,
   "id": "79b4c42e",
   "metadata": {},
   "outputs": [
    {
     "data": {
      "text/plain": [
       "119110"
      ]
     },
     "execution_count": 52,
     "metadata": {},
     "output_type": "execute_result"
    }
   ],
   "source": [
    "data['Salary'].max()"
   ]
  },
  {
   "cell_type": "markdown",
   "id": "ada30353",
   "metadata": {},
   "source": [
    "- Hence 77246.24 is the **average** salary of the employee,\n",
    "- 75280 is the **median** salary,\n",
    "- 33920 is the **minimum** salary of an employee and 119110 is the **maximum** salary"
   ]
  },
  {
   "cell_type": "markdown",
   "id": "55e5178d",
   "metadata": {},
   "source": [
    "**8. What is the salary distribution across different ranges (e.g., <$40K, $40K–$50K, etc.)?**"
   ]
  },
  {
   "cell_type": "code",
   "execution_count": 53,
   "id": "fc45735e",
   "metadata": {},
   "outputs": [],
   "source": [
    "bins = [0, 40000, 60000, 80000, 100000, float('inf')]\n",
    "labels = ['<$40K', '$40K–$60K', '$60K–$80K', '$80K–$100K', '$100K+']\n",
    "data['Salary_Range'] = pd.cut(data['Salary'], bins=bins, labels=labels)"
   ]
  },
  {
   "cell_type": "code",
   "execution_count": 54,
   "id": "0a56610b",
   "metadata": {},
   "outputs": [
    {
     "data": {
      "text/html": [
       "<div>\n",
       "<style scoped>\n",
       "    .dataframe tbody tr th:only-of-type {\n",
       "        vertical-align: middle;\n",
       "    }\n",
       "\n",
       "    .dataframe tbody tr th {\n",
       "        vertical-align: top;\n",
       "    }\n",
       "\n",
       "    .dataframe thead th {\n",
       "        text-align: right;\n",
       "    }\n",
       "</style>\n",
       "<table border=\"1\" class=\"dataframe\">\n",
       "  <thead>\n",
       "    <tr style=\"text-align: right;\">\n",
       "      <th></th>\n",
       "      <th>Gender</th>\n",
       "      <th>Age</th>\n",
       "      <th>Rating</th>\n",
       "      <th>Date Joined</th>\n",
       "      <th>Department</th>\n",
       "      <th>Salary</th>\n",
       "      <th>Country</th>\n",
       "      <th>Salary_Range</th>\n",
       "    </tr>\n",
       "  </thead>\n",
       "  <tbody>\n",
       "    <tr>\n",
       "      <th>0</th>\n",
       "      <td>Male</td>\n",
       "      <td>20</td>\n",
       "      <td>Average</td>\n",
       "      <td>2020-10-18</td>\n",
       "      <td>Website</td>\n",
       "      <td>112650</td>\n",
       "      <td>IND</td>\n",
       "      <td>$100K+</td>\n",
       "    </tr>\n",
       "    <tr>\n",
       "      <th>1</th>\n",
       "      <td>Male</td>\n",
       "      <td>32</td>\n",
       "      <td>Above average</td>\n",
       "      <td>2021-04-07</td>\n",
       "      <td>Website</td>\n",
       "      <td>43840</td>\n",
       "      <td>IND</td>\n",
       "      <td>$40K–$60K</td>\n",
       "    </tr>\n",
       "    <tr>\n",
       "      <th>2</th>\n",
       "      <td>Female</td>\n",
       "      <td>31</td>\n",
       "      <td>Average</td>\n",
       "      <td>2022-04-12</td>\n",
       "      <td>Procurement</td>\n",
       "      <td>103550</td>\n",
       "      <td>IND</td>\n",
       "      <td>$100K+</td>\n",
       "    </tr>\n",
       "    <tr>\n",
       "      <th>3</th>\n",
       "      <td>Male</td>\n",
       "      <td>32</td>\n",
       "      <td>Average</td>\n",
       "      <td>2021-05-23</td>\n",
       "      <td>HR</td>\n",
       "      <td>45510</td>\n",
       "      <td>IND</td>\n",
       "      <td>$40K–$60K</td>\n",
       "    </tr>\n",
       "    <tr>\n",
       "      <th>4</th>\n",
       "      <td>Female</td>\n",
       "      <td>37</td>\n",
       "      <td>Poor</td>\n",
       "      <td>2020-09-11</td>\n",
       "      <td>Finance</td>\n",
       "      <td>115440</td>\n",
       "      <td>IND</td>\n",
       "      <td>$100K+</td>\n",
       "    </tr>\n",
       "    <tr>\n",
       "      <th>...</th>\n",
       "      <td>...</td>\n",
       "      <td>...</td>\n",
       "      <td>...</td>\n",
       "      <td>...</td>\n",
       "      <td>...</td>\n",
       "      <td>...</td>\n",
       "      <td>...</td>\n",
       "      <td>...</td>\n",
       "    </tr>\n",
       "    <tr>\n",
       "      <th>178</th>\n",
       "      <td>Female</td>\n",
       "      <td>33</td>\n",
       "      <td>Average</td>\n",
       "      <td>2021-04-26</td>\n",
       "      <td>Website</td>\n",
       "      <td>75280</td>\n",
       "      <td>NZ</td>\n",
       "      <td>$60K–$80K</td>\n",
       "    </tr>\n",
       "    <tr>\n",
       "      <th>179</th>\n",
       "      <td>Male</td>\n",
       "      <td>33</td>\n",
       "      <td>Average</td>\n",
       "      <td>2021-07-08</td>\n",
       "      <td>Sales</td>\n",
       "      <td>74550</td>\n",
       "      <td>NZ</td>\n",
       "      <td>$60K–$80K</td>\n",
       "    </tr>\n",
       "    <tr>\n",
       "      <th>180</th>\n",
       "      <td>Male</td>\n",
       "      <td>30</td>\n",
       "      <td>Average</td>\n",
       "      <td>2022-05-20</td>\n",
       "      <td>Procurement</td>\n",
       "      <td>67950</td>\n",
       "      <td>NZ</td>\n",
       "      <td>$60K–$80K</td>\n",
       "    </tr>\n",
       "    <tr>\n",
       "      <th>181</th>\n",
       "      <td>Male</td>\n",
       "      <td>42</td>\n",
       "      <td>Poor</td>\n",
       "      <td>2022-06-19</td>\n",
       "      <td>Finance</td>\n",
       "      <td>70270</td>\n",
       "      <td>NZ</td>\n",
       "      <td>$60K–$80K</td>\n",
       "    </tr>\n",
       "    <tr>\n",
       "      <th>182</th>\n",
       "      <td>Male</td>\n",
       "      <td>26</td>\n",
       "      <td>Average</td>\n",
       "      <td>2021-08-03</td>\n",
       "      <td>Procurement</td>\n",
       "      <td>53540</td>\n",
       "      <td>NZ</td>\n",
       "      <td>$40K–$60K</td>\n",
       "    </tr>\n",
       "  </tbody>\n",
       "</table>\n",
       "<p>181 rows × 8 columns</p>\n",
       "</div>"
      ],
      "text/plain": [
       "     Gender  Age         Rating Date Joined   Department  Salary Country  \\\n",
       "0      Male   20        Average  2020-10-18      Website  112650     IND   \n",
       "1      Male   32  Above average  2021-04-07      Website   43840     IND   \n",
       "2    Female   31        Average  2022-04-12  Procurement  103550     IND   \n",
       "3      Male   32        Average  2021-05-23           HR   45510     IND   \n",
       "4    Female   37           Poor  2020-09-11      Finance  115440     IND   \n",
       "..      ...  ...            ...         ...          ...     ...     ...   \n",
       "178  Female   33        Average  2021-04-26      Website   75280      NZ   \n",
       "179    Male   33        Average  2021-07-08        Sales   74550      NZ   \n",
       "180    Male   30        Average  2022-05-20  Procurement   67950      NZ   \n",
       "181    Male   42           Poor  2022-06-19      Finance   70270      NZ   \n",
       "182    Male   26        Average  2021-08-03  Procurement   53540      NZ   \n",
       "\n",
       "    Salary_Range  \n",
       "0         $100K+  \n",
       "1      $40K–$60K  \n",
       "2         $100K+  \n",
       "3      $40K–$60K  \n",
       "4         $100K+  \n",
       "..           ...  \n",
       "178    $60K–$80K  \n",
       "179    $60K–$80K  \n",
       "180    $60K–$80K  \n",
       "181    $60K–$80K  \n",
       "182    $40K–$60K  \n",
       "\n",
       "[181 rows x 8 columns]"
      ]
     },
     "execution_count": 54,
     "metadata": {},
     "output_type": "execute_result"
    }
   ],
   "source": [
    "data"
   ]
  },
  {
   "cell_type": "code",
   "execution_count": 55,
   "id": "ca08a169",
   "metadata": {},
   "outputs": [
    {
     "data": {
      "text/plain": [
       "<$40K          8\n",
       "$40K–$60K     48\n",
       "$60K–$80K     50\n",
       "$80K–$100K    30\n",
       "$100K+        45\n",
       "Name: Salary_Range, dtype: int64"
      ]
     },
     "execution_count": 55,
     "metadata": {},
     "output_type": "execute_result"
    }
   ],
   "source": [
    "data['Salary_Range'].value_counts().sort_index()"
   ]
  },
  {
   "cell_type": "code",
   "execution_count": 56,
   "id": "f31a673f",
   "metadata": {},
   "outputs": [
    {
     "data": {
      "image/png": "[encoded data removed]",
      "text/plain": [
       "<Figure size 640x480 with 1 Axes>"
      ]
     },
     "metadata": {},
     "output_type": "display_data"
    }
   ],
   "source": [
    "sns.histplot(x=data['Salary'],bins=5,kde=True,color='red',edgecolor='black')\n",
    "plt.title('Salary Histogram')\n",
    "plt.xlabel('Salary')\n",
    "plt.ylabel('Frequency')\n",
    "plt.show()"
   ]
  },
  {
   "cell_type": "code",
   "execution_count": 57,
   "id": "44573134",
   "metadata": {},
   "outputs": [
    {
     "data": {
      "text/plain": [
       "0.12561080711310627"
      ]
     },
     "execution_count": 57,
     "metadata": {},
     "output_type": "execute_result"
    }
   ],
   "source": [
    "data['Salary'].skew()"
   ]
  },
  {
   "cell_type": "markdown",
   "id": "ce555b61",
   "metadata": {},
   "source": [
    "**Observation**\n",
    "- Most number of employees have salary between 60000 to 80000 i.e. of 50 employees\n",
    "- slightly right skewed data means more number of employees earning less than median salary which is 75000"
   ]
  },
  {
   "cell_type": "markdown",
   "id": "0a3a1478",
   "metadata": {},
   "source": [
    "**9. What is the average salary for each department?\n",
    "Which department has the highest and lowest average salary?**"
   ]
  },
  {
   "cell_type": "code",
   "execution_count": 58,
   "id": "9b692079",
   "metadata": {},
   "outputs": [
    {
     "data": {
      "text/html": [
       "<div>\n",
       "<style scoped>\n",
       "    .dataframe tbody tr th:only-of-type {\n",
       "        vertical-align: middle;\n",
       "    }\n",
       "\n",
       "    .dataframe tbody tr th {\n",
       "        vertical-align: top;\n",
       "    }\n",
       "\n",
       "    .dataframe thead th {\n",
       "        text-align: right;\n",
       "    }\n",
       "</style>\n",
       "<table border=\"1\" class=\"dataframe\">\n",
       "  <thead>\n",
       "    <tr style=\"text-align: right;\">\n",
       "      <th></th>\n",
       "      <th>Department</th>\n",
       "      <th>Avg_Salary</th>\n",
       "    </tr>\n",
       "  </thead>\n",
       "  <tbody>\n",
       "    <tr>\n",
       "      <th>3</th>\n",
       "      <td>Sales</td>\n",
       "      <td>67866.428571</td>\n",
       "    </tr>\n",
       "    <tr>\n",
       "      <th>0</th>\n",
       "      <td>Finance</td>\n",
       "      <td>72472.631579</td>\n",
       "    </tr>\n",
       "    <tr>\n",
       "      <th>4</th>\n",
       "      <td>Website</td>\n",
       "      <td>78753.703704</td>\n",
       "    </tr>\n",
       "    <tr>\n",
       "      <th>2</th>\n",
       "      <td>Procurement</td>\n",
       "      <td>82216.037736</td>\n",
       "    </tr>\n",
       "    <tr>\n",
       "      <th>1</th>\n",
       "      <td>HR</td>\n",
       "      <td>89650.000000</td>\n",
       "    </tr>\n",
       "  </tbody>\n",
       "</table>\n",
       "</div>"
      ],
      "text/plain": [
       "    Department    Avg_Salary\n",
       "3        Sales  67866.428571\n",
       "0      Finance  72472.631579\n",
       "4      Website  78753.703704\n",
       "2  Procurement  82216.037736\n",
       "1           HR  89650.000000"
      ]
     },
     "execution_count": 58,
     "metadata": {},
     "output_type": "execute_result"
    }
   ],
   "source": [
    "dep_avg_salary=data.groupby('Department')['Salary'].mean().reset_index(name='Avg_Salary').sort_values(by='Avg_Salary')\n",
    "dep_avg_salary"
   ]
  },
  {
   "cell_type": "code",
   "execution_count": 59,
   "id": "1c5d9d96",
   "metadata": {},
   "outputs": [
    {
     "data": {
      "image/png": "[encoded data removed]",
      "text/plain": [
       "<Figure size 1600x600 with 1 Axes>"
      ]
     },
     "metadata": {},
     "output_type": "display_data"
    }
   ],
   "source": [
    "dep_avg_salary.plot(kind='barh', x='Department', y='Avg_Salary', color='orange', edgecolor='black', figsize=(16, 6))\n",
    "plt.title('Average Salary by Department', fontsize=16)\n",
    "plt.xlabel('Average Salary', fontsize=14)\n",
    "plt.ylabel('Department', fontsize=14)\n",
    "plt.grid(axis='x', linestyle='--', alpha=0.7)\n",
    "plt.show()"
   ]
  },
  {
   "cell_type": "markdown",
   "id": "05bf3f3d",
   "metadata": {},
   "source": [
    "**Observation**\n",
    "-Clearly we can see that the HR Department has highest Average Salary i.e. 89650 and Sales has lowest i.e.67866.43"
   ]
  },
  {
   "cell_type": "markdown",
   "id": "979a8929",
   "metadata": {},
   "source": [
    "**10. What is the average salary for male, female and others employees?\n",
    "Is there a noticeable salary gap between genders?**"
   ]
  },
  {
   "cell_type": "code",
   "execution_count": 60,
   "id": "ff61c146",
   "metadata": {},
   "outputs": [
    {
     "data": {
      "text/html": [
       "<div>\n",
       "<style scoped>\n",
       "    .dataframe tbody tr th:only-of-type {\n",
       "        vertical-align: middle;\n",
       "    }\n",
       "\n",
       "    .dataframe tbody tr th {\n",
       "        vertical-align: top;\n",
       "    }\n",
       "\n",
       "    .dataframe thead th {\n",
       "        text-align: right;\n",
       "    }\n",
       "</style>\n",
       "<table border=\"1\" class=\"dataframe\">\n",
       "  <thead>\n",
       "    <tr style=\"text-align: right;\">\n",
       "      <th></th>\n",
       "      <th>Gender</th>\n",
       "      <th>Avg_Salary</th>\n",
       "    </tr>\n",
       "  </thead>\n",
       "  <tbody>\n",
       "    <tr>\n",
       "      <th>1</th>\n",
       "      <td>Male</td>\n",
       "      <td>74092.555556</td>\n",
       "    </tr>\n",
       "    <tr>\n",
       "      <th>0</th>\n",
       "      <td>Female</td>\n",
       "      <td>79965.764706</td>\n",
       "    </tr>\n",
       "    <tr>\n",
       "      <th>2</th>\n",
       "      <td>Other</td>\n",
       "      <td>86025.000000</td>\n",
       "    </tr>\n",
       "  </tbody>\n",
       "</table>\n",
       "</div>"
      ],
      "text/plain": [
       "   Gender    Avg_Salary\n",
       "1    Male  74092.555556\n",
       "0  Female  79965.764706\n",
       "2   Other  86025.000000"
      ]
     },
     "execution_count": 60,
     "metadata": {},
     "output_type": "execute_result"
    }
   ],
   "source": [
    "gender_avg_sal=data.groupby('Gender')['Salary'].mean().reset_index(name=\"Avg_Salary\").sort_values(by='Avg_Salary')\n",
    "gender_avg_sal"
   ]
  },
  {
   "cell_type": "code",
   "execution_count": 61,
   "id": "e2062cf0",
   "metadata": {},
   "outputs": [
    {
     "data": {
      "image/png": "[encoded data removed]",
      "text/plain": [
       "<Figure size 640x480 with 1 Axes>"
      ]
     },
     "metadata": {},
     "output_type": "display_data"
    }
   ],
   "source": [
    "gender_avg_sal.plot(kind='bar',x='Gender',y='Avg_Salary',color='grey',edgecolor='black')\n",
    "plt.title('Average Salary By Gender',fontsize=16)\n",
    "plt.xticks(rotation=0)\n",
    "plt.xlabel(\"Gender\",fontsize=14)\n",
    "plt.ylabel(\"Avg_Salary\",fontsize=14)\n",
    "plt.grid(axis='y',linestyle='--',alpha=0.7)\n",
    "plt.tight_layout()\n",
    "plt.show()"
   ]
  },
  {
   "cell_type": "markdown",
   "id": "17c6a267",
   "metadata": {},
   "source": [
    "**Observation**\n",
    "- we can clearly observe that Other has highest average salary followed by Female then male has least average salary"
   ]
  },
  {
   "cell_type": "markdown",
   "id": "d10d2a5d",
   "metadata": {},
   "source": [
    "**11. What is the average salary in each country?**"
   ]
  },
  {
   "cell_type": "code",
   "execution_count": 62,
   "id": "3f29b825",
   "metadata": {},
   "outputs": [
    {
     "data": {
      "text/html": [
       "<div>\n",
       "<style scoped>\n",
       "    .dataframe tbody tr th:only-of-type {\n",
       "        vertical-align: middle;\n",
       "    }\n",
       "\n",
       "    .dataframe tbody tr th {\n",
       "        vertical-align: top;\n",
       "    }\n",
       "\n",
       "    .dataframe thead th {\n",
       "        text-align: right;\n",
       "    }\n",
       "</style>\n",
       "<table border=\"1\" class=\"dataframe\">\n",
       "  <thead>\n",
       "    <tr style=\"text-align: right;\">\n",
       "      <th></th>\n",
       "      <th>Country</th>\n",
       "      <th>Avg_Salary</th>\n",
       "    </tr>\n",
       "  </thead>\n",
       "  <tbody>\n",
       "    <tr>\n",
       "      <th>1</th>\n",
       "      <td>NZ</td>\n",
       "      <td>77049.555556</td>\n",
       "    </tr>\n",
       "    <tr>\n",
       "      <th>0</th>\n",
       "      <td>IND</td>\n",
       "      <td>77440.769231</td>\n",
       "    </tr>\n",
       "  </tbody>\n",
       "</table>\n",
       "</div>"
      ],
      "text/plain": [
       "  Country    Avg_Salary\n",
       "1      NZ  77049.555556\n",
       "0     IND  77440.769231"
      ]
     },
     "execution_count": 62,
     "metadata": {},
     "output_type": "execute_result"
    }
   ],
   "source": [
    "coun_avg_salary=data.groupby('Country')['Salary'].mean().reset_index(name='Avg_Salary').sort_values(by='Avg_Salary')\n",
    "coun_avg_salary"
   ]
  },
  {
   "cell_type": "code",
   "execution_count": 63,
   "id": "c05fa498",
   "metadata": {},
   "outputs": [
    {
     "data": {
      "image/png": "[encoded data removed]",
      "text/plain": [
       "<Figure size 640x480 with 1 Axes>"
      ]
     },
     "metadata": {},
     "output_type": "display_data"
    }
   ],
   "source": [
    "coun_avg_salary.plot(kind='bar',x='Country',y='Avg_Salary',color=['grey','orange'],edgecolor='black',legend=False)\n",
    "plt.title('Average Salary By Country',fontsize=16)\n",
    "plt.xticks(rotation=0)\n",
    "plt.xlabel(\"Country\",fontsize=14)\n",
    "plt.ylabel(\"Avg_Salary\",fontsize=14)\n",
    "plt.grid(axis='y',linestyle='--',alpha=0.7)\n",
    "plt.tight_layout()\n",
    "plt.show()"
   ]
  },
  {
   "cell_type": "markdown",
   "id": "7e0eee14",
   "metadata": {},
   "source": [
    "- Comparatively India has slightly better Average Salary than NZ"
   ]
  },
  {
   "cell_type": "markdown",
   "id": "c51a1eb5",
   "metadata": {},
   "source": [
    "**12.How many employees joined each year?**"
   ]
  },
  {
   "cell_type": "code",
   "execution_count": 64,
   "id": "d224803d",
   "metadata": {},
   "outputs": [],
   "source": [
    "data['Joining_Year']=pd.to_datetime(data['Date Joined']).dt.year"
   ]
  },
  {
   "cell_type": "code",
   "execution_count": 65,
   "id": "d8ec7a37",
   "metadata": {},
   "outputs": [
    {
     "data": {
      "text/html": [
       "<div>\n",
       "<style scoped>\n",
       "    .dataframe tbody tr th:only-of-type {\n",
       "        vertical-align: middle;\n",
       "    }\n",
       "\n",
       "    .dataframe tbody tr th {\n",
       "        vertical-align: top;\n",
       "    }\n",
       "\n",
       "    .dataframe thead th {\n",
       "        text-align: right;\n",
       "    }\n",
       "</style>\n",
       "<table border=\"1\" class=\"dataframe\">\n",
       "  <thead>\n",
       "    <tr style=\"text-align: right;\">\n",
       "      <th></th>\n",
       "      <th>Gender</th>\n",
       "      <th>Age</th>\n",
       "      <th>Rating</th>\n",
       "      <th>Date Joined</th>\n",
       "      <th>Department</th>\n",
       "      <th>Salary</th>\n",
       "      <th>Country</th>\n",
       "      <th>Salary_Range</th>\n",
       "      <th>Joining_Year</th>\n",
       "    </tr>\n",
       "  </thead>\n",
       "  <tbody>\n",
       "    <tr>\n",
       "      <th>0</th>\n",
       "      <td>Male</td>\n",
       "      <td>20</td>\n",
       "      <td>Average</td>\n",
       "      <td>2020-10-18</td>\n",
       "      <td>Website</td>\n",
       "      <td>112650</td>\n",
       "      <td>IND</td>\n",
       "      <td>$100K+</td>\n",
       "      <td>2020</td>\n",
       "    </tr>\n",
       "    <tr>\n",
       "      <th>1</th>\n",
       "      <td>Male</td>\n",
       "      <td>32</td>\n",
       "      <td>Above average</td>\n",
       "      <td>2021-04-07</td>\n",
       "      <td>Website</td>\n",
       "      <td>43840</td>\n",
       "      <td>IND</td>\n",
       "      <td>$40K–$60K</td>\n",
       "      <td>2021</td>\n",
       "    </tr>\n",
       "    <tr>\n",
       "      <th>2</th>\n",
       "      <td>Female</td>\n",
       "      <td>31</td>\n",
       "      <td>Average</td>\n",
       "      <td>2022-04-12</td>\n",
       "      <td>Procurement</td>\n",
       "      <td>103550</td>\n",
       "      <td>IND</td>\n",
       "      <td>$100K+</td>\n",
       "      <td>2022</td>\n",
       "    </tr>\n",
       "    <tr>\n",
       "      <th>3</th>\n",
       "      <td>Male</td>\n",
       "      <td>32</td>\n",
       "      <td>Average</td>\n",
       "      <td>2021-05-23</td>\n",
       "      <td>HR</td>\n",
       "      <td>45510</td>\n",
       "      <td>IND</td>\n",
       "      <td>$40K–$60K</td>\n",
       "      <td>2021</td>\n",
       "    </tr>\n",
       "    <tr>\n",
       "      <th>4</th>\n",
       "      <td>Female</td>\n",
       "      <td>37</td>\n",
       "      <td>Poor</td>\n",
       "      <td>2020-09-11</td>\n",
       "      <td>Finance</td>\n",
       "      <td>115440</td>\n",
       "      <td>IND</td>\n",
       "      <td>$100K+</td>\n",
       "      <td>2020</td>\n",
       "    </tr>\n",
       "    <tr>\n",
       "      <th>...</th>\n",
       "      <td>...</td>\n",
       "      <td>...</td>\n",
       "      <td>...</td>\n",
       "      <td>...</td>\n",
       "      <td>...</td>\n",
       "      <td>...</td>\n",
       "      <td>...</td>\n",
       "      <td>...</td>\n",
       "      <td>...</td>\n",
       "    </tr>\n",
       "    <tr>\n",
       "      <th>178</th>\n",
       "      <td>Female</td>\n",
       "      <td>33</td>\n",
       "      <td>Average</td>\n",
       "      <td>2021-04-26</td>\n",
       "      <td>Website</td>\n",
       "      <td>75280</td>\n",
       "      <td>NZ</td>\n",
       "      <td>$60K–$80K</td>\n",
       "      <td>2021</td>\n",
       "    </tr>\n",
       "    <tr>\n",
       "      <th>179</th>\n",
       "      <td>Male</td>\n",
       "      <td>33</td>\n",
       "      <td>Average</td>\n",
       "      <td>2021-07-08</td>\n",
       "      <td>Sales</td>\n",
       "      <td>74550</td>\n",
       "      <td>NZ</td>\n",
       "      <td>$60K–$80K</td>\n",
       "      <td>2021</td>\n",
       "    </tr>\n",
       "    <tr>\n",
       "      <th>180</th>\n",
       "      <td>Male</td>\n",
       "      <td>30</td>\n",
       "      <td>Average</td>\n",
       "      <td>2022-05-20</td>\n",
       "      <td>Procurement</td>\n",
       "      <td>67950</td>\n",
       "      <td>NZ</td>\n",
       "      <td>$60K–$80K</td>\n",
       "      <td>2022</td>\n",
       "    </tr>\n",
       "    <tr>\n",
       "      <th>181</th>\n",
       "      <td>Male</td>\n",
       "      <td>42</td>\n",
       "      <td>Poor</td>\n",
       "      <td>2022-06-19</td>\n",
       "      <td>Finance</td>\n",
       "      <td>70270</td>\n",
       "      <td>NZ</td>\n",
       "      <td>$60K–$80K</td>\n",
       "      <td>2022</td>\n",
       "    </tr>\n",
       "    <tr>\n",
       "      <th>182</th>\n",
       "      <td>Male</td>\n",
       "      <td>26</td>\n",
       "      <td>Average</td>\n",
       "      <td>2021-08-03</td>\n",
       "      <td>Procurement</td>\n",
       "      <td>53540</td>\n",
       "      <td>NZ</td>\n",
       "      <td>$40K–$60K</td>\n",
       "      <td>2021</td>\n",
       "    </tr>\n",
       "  </tbody>\n",
       "</table>\n",
       "<p>181 rows × 9 columns</p>\n",
       "</div>"
      ],
      "text/plain": [
       "     Gender  Age         Rating Date Joined   Department  Salary Country  \\\n",
       "0      Male   20        Average  2020-10-18      Website  112650     IND   \n",
       "1      Male   32  Above average  2021-04-07      Website   43840     IND   \n",
       "2    Female   31        Average  2022-04-12  Procurement  103550     IND   \n",
       "3      Male   32        Average  2021-05-23           HR   45510     IND   \n",
       "4    Female   37           Poor  2020-09-11      Finance  115440     IND   \n",
       "..      ...  ...            ...         ...          ...     ...     ...   \n",
       "178  Female   33        Average  2021-04-26      Website   75280      NZ   \n",
       "179    Male   33        Average  2021-07-08        Sales   74550      NZ   \n",
       "180    Male   30        Average  2022-05-20  Procurement   67950      NZ   \n",
       "181    Male   42           Poor  2022-06-19      Finance   70270      NZ   \n",
       "182    Male   26        Average  2021-08-03  Procurement   53540      NZ   \n",
       "\n",
       "    Salary_Range  Joining_Year  \n",
       "0         $100K+          2020  \n",
       "1      $40K–$60K          2021  \n",
       "2         $100K+          2022  \n",
       "3      $40K–$60K          2021  \n",
       "4         $100K+          2020  \n",
       "..           ...           ...  \n",
       "178    $60K–$80K          2021  \n",
       "179    $60K–$80K          2021  \n",
       "180    $60K–$80K          2022  \n",
       "181    $60K–$80K          2022  \n",
       "182    $40K–$60K          2021  \n",
       "\n",
       "[181 rows x 9 columns]"
      ]
     },
     "execution_count": 65,
     "metadata": {},
     "output_type": "execute_result"
    }
   ],
   "source": [
    "data"
   ]
  },
  {
   "cell_type": "code",
   "execution_count": 66,
   "id": "2ea97126",
   "metadata": {},
   "outputs": [
    {
     "data": {
      "text/html": [
       "<div>\n",
       "<style scoped>\n",
       "    .dataframe tbody tr th:only-of-type {\n",
       "        vertical-align: middle;\n",
       "    }\n",
       "\n",
       "    .dataframe tbody tr th {\n",
       "        vertical-align: top;\n",
       "    }\n",
       "\n",
       "    .dataframe thead th {\n",
       "        text-align: right;\n",
       "    }\n",
       "</style>\n",
       "<table border=\"1\" class=\"dataframe\">\n",
       "  <thead>\n",
       "    <tr style=\"text-align: right;\">\n",
       "      <th></th>\n",
       "      <th>Joining_Year</th>\n",
       "      <th>Emp_Count</th>\n",
       "    </tr>\n",
       "  </thead>\n",
       "  <tbody>\n",
       "    <tr>\n",
       "      <th>0</th>\n",
       "      <td>2020</td>\n",
       "      <td>37</td>\n",
       "    </tr>\n",
       "    <tr>\n",
       "      <th>1</th>\n",
       "      <td>2021</td>\n",
       "      <td>82</td>\n",
       "    </tr>\n",
       "    <tr>\n",
       "      <th>2</th>\n",
       "      <td>2022</td>\n",
       "      <td>60</td>\n",
       "    </tr>\n",
       "    <tr>\n",
       "      <th>3</th>\n",
       "      <td>2023</td>\n",
       "      <td>2</td>\n",
       "    </tr>\n",
       "  </tbody>\n",
       "</table>\n",
       "</div>"
      ],
      "text/plain": [
       "   Joining_Year  Emp_Count\n",
       "0          2020         37\n",
       "1          2021         82\n",
       "2          2022         60\n",
       "3          2023          2"
      ]
     },
     "execution_count": 66,
     "metadata": {},
     "output_type": "execute_result"
    }
   ],
   "source": [
    "join_year=data.groupby('Joining_Year').size().reset_index(name='Emp_Count')\n",
    "join_year"
   ]
  },
  {
   "cell_type": "code",
   "execution_count": 67,
   "id": "0a498bb6",
   "metadata": {},
   "outputs": [
    {
     "data": {
      "image/png": "[encoded data removed]",
      "text/plain": [
       "<Figure size 640x480 with 1 Axes>"
      ]
     },
     "metadata": {},
     "output_type": "display_data"
    }
   ],
   "source": [
    "join_year.plot(kind='line',x='Joining_Year',y='Emp_Count',marker='o',color='red')\n",
    "plt.title(\"Employeed Joined Each Year\",fontsize=16)\n",
    "plt.xlabel(\"Joining year\",fontsize=14)\n",
    "plt.ylabel(\"No of Employees\",fontsize=14)\n",
    "plt.xticks([2020,2021,2022,2023])\n",
    "plt.grid(axis='y',linestyle='--',alpha=0.5)\n",
    "plt.tight_layout()\n",
    "plt.show()"
   ]
  },
  {
   "cell_type": "markdown",
   "id": "ca9679d7",
   "metadata": {},
   "source": [
    "- we can clearly observe that most employees joined this company in 2021 followed by 2022,2020 and least in 2023"
   ]
  },
  {
   "cell_type": "code",
   "execution_count": 68,
   "id": "9c488e64",
   "metadata": {},
   "outputs": [],
   "source": [
    "data['Join_Month']=pd.to_datetime(data['Date Joined']).dt.month"
   ]
  },
  {
   "cell_type": "code",
   "execution_count": 69,
   "id": "afca2590",
   "metadata": {},
   "outputs": [
    {
     "data": {
      "text/html": [
       "<div>\n",
       "<style scoped>\n",
       "    .dataframe tbody tr th:only-of-type {\n",
       "        vertical-align: middle;\n",
       "    }\n",
       "\n",
       "    .dataframe tbody tr th {\n",
       "        vertical-align: top;\n",
       "    }\n",
       "\n",
       "    .dataframe thead th {\n",
       "        text-align: right;\n",
       "    }\n",
       "</style>\n",
       "<table border=\"1\" class=\"dataframe\">\n",
       "  <thead>\n",
       "    <tr style=\"text-align: right;\">\n",
       "      <th></th>\n",
       "      <th>Gender</th>\n",
       "      <th>Age</th>\n",
       "      <th>Rating</th>\n",
       "      <th>Date Joined</th>\n",
       "      <th>Department</th>\n",
       "      <th>Salary</th>\n",
       "      <th>Country</th>\n",
       "      <th>Salary_Range</th>\n",
       "      <th>Joining_Year</th>\n",
       "      <th>Join_Month</th>\n",
       "    </tr>\n",
       "  </thead>\n",
       "  <tbody>\n",
       "    <tr>\n",
       "      <th>0</th>\n",
       "      <td>Male</td>\n",
       "      <td>20</td>\n",
       "      <td>Average</td>\n",
       "      <td>2020-10-18</td>\n",
       "      <td>Website</td>\n",
       "      <td>112650</td>\n",
       "      <td>IND</td>\n",
       "      <td>$100K+</td>\n",
       "      <td>2020</td>\n",
       "      <td>10</td>\n",
       "    </tr>\n",
       "    <tr>\n",
       "      <th>1</th>\n",
       "      <td>Male</td>\n",
       "      <td>32</td>\n",
       "      <td>Above average</td>\n",
       "      <td>2021-04-07</td>\n",
       "      <td>Website</td>\n",
       "      <td>43840</td>\n",
       "      <td>IND</td>\n",
       "      <td>$40K–$60K</td>\n",
       "      <td>2021</td>\n",
       "      <td>4</td>\n",
       "    </tr>\n",
       "    <tr>\n",
       "      <th>2</th>\n",
       "      <td>Female</td>\n",
       "      <td>31</td>\n",
       "      <td>Average</td>\n",
       "      <td>2022-04-12</td>\n",
       "      <td>Procurement</td>\n",
       "      <td>103550</td>\n",
       "      <td>IND</td>\n",
       "      <td>$100K+</td>\n",
       "      <td>2022</td>\n",
       "      <td>4</td>\n",
       "    </tr>\n",
       "    <tr>\n",
       "      <th>3</th>\n",
       "      <td>Male</td>\n",
       "      <td>32</td>\n",
       "      <td>Average</td>\n",
       "      <td>2021-05-23</td>\n",
       "      <td>HR</td>\n",
       "      <td>45510</td>\n",
       "      <td>IND</td>\n",
       "      <td>$40K–$60K</td>\n",
       "      <td>2021</td>\n",
       "      <td>5</td>\n",
       "    </tr>\n",
       "    <tr>\n",
       "      <th>4</th>\n",
       "      <td>Female</td>\n",
       "      <td>37</td>\n",
       "      <td>Poor</td>\n",
       "      <td>2020-09-11</td>\n",
       "      <td>Finance</td>\n",
       "      <td>115440</td>\n",
       "      <td>IND</td>\n",
       "      <td>$100K+</td>\n",
       "      <td>2020</td>\n",
       "      <td>9</td>\n",
       "    </tr>\n",
       "    <tr>\n",
       "      <th>...</th>\n",
       "      <td>...</td>\n",
       "      <td>...</td>\n",
       "      <td>...</td>\n",
       "      <td>...</td>\n",
       "      <td>...</td>\n",
       "      <td>...</td>\n",
       "      <td>...</td>\n",
       "      <td>...</td>\n",
       "      <td>...</td>\n",
       "      <td>...</td>\n",
       "    </tr>\n",
       "    <tr>\n",
       "      <th>178</th>\n",
       "      <td>Female</td>\n",
       "      <td>33</td>\n",
       "      <td>Average</td>\n",
       "      <td>2021-04-26</td>\n",
       "      <td>Website</td>\n",
       "      <td>75280</td>\n",
       "      <td>NZ</td>\n",
       "      <td>$60K–$80K</td>\n",
       "      <td>2021</td>\n",
       "      <td>4</td>\n",
       "    </tr>\n",
       "    <tr>\n",
       "      <th>179</th>\n",
       "      <td>Male</td>\n",
       "      <td>33</td>\n",
       "      <td>Average</td>\n",
       "      <td>2021-07-08</td>\n",
       "      <td>Sales</td>\n",
       "      <td>74550</td>\n",
       "      <td>NZ</td>\n",
       "      <td>$60K–$80K</td>\n",
       "      <td>2021</td>\n",
       "      <td>7</td>\n",
       "    </tr>\n",
       "    <tr>\n",
       "      <th>180</th>\n",
       "      <td>Male</td>\n",
       "      <td>30</td>\n",
       "      <td>Average</td>\n",
       "      <td>2022-05-20</td>\n",
       "      <td>Procurement</td>\n",
       "      <td>67950</td>\n",
       "      <td>NZ</td>\n",
       "      <td>$60K–$80K</td>\n",
       "      <td>2022</td>\n",
       "      <td>5</td>\n",
       "    </tr>\n",
       "    <tr>\n",
       "      <th>181</th>\n",
       "      <td>Male</td>\n",
       "      <td>42</td>\n",
       "      <td>Poor</td>\n",
       "      <td>2022-06-19</td>\n",
       "      <td>Finance</td>\n",
       "      <td>70270</td>\n",
       "      <td>NZ</td>\n",
       "      <td>$60K–$80K</td>\n",
       "      <td>2022</td>\n",
       "      <td>6</td>\n",
       "    </tr>\n",
       "    <tr>\n",
       "      <th>182</th>\n",
       "      <td>Male</td>\n",
       "      <td>26</td>\n",
       "      <td>Average</td>\n",
       "      <td>2021-08-03</td>\n",
       "      <td>Procurement</td>\n",
       "      <td>53540</td>\n",
       "      <td>NZ</td>\n",
       "      <td>$40K–$60K</td>\n",
       "      <td>2021</td>\n",
       "      <td>8</td>\n",
       "    </tr>\n",
       "  </tbody>\n",
       "</table>\n",
       "<p>181 rows × 10 columns</p>\n",
       "</div>"
      ],
      "text/plain": [
       "     Gender  Age         Rating Date Joined   Department  Salary Country  \\\n",
       "0      Male   20        Average  2020-10-18      Website  112650     IND   \n",
       "1      Male   32  Above average  2021-04-07      Website   43840     IND   \n",
       "2    Female   31        Average  2022-04-12  Procurement  103550     IND   \n",
       "3      Male   32        Average  2021-05-23           HR   45510     IND   \n",
       "4    Female   37           Poor  2020-09-11      Finance  115440     IND   \n",
       "..      ...  ...            ...         ...          ...     ...     ...   \n",
       "178  Female   33        Average  2021-04-26      Website   75280      NZ   \n",
       "179    Male   33        Average  2021-07-08        Sales   74550      NZ   \n",
       "180    Male   30        Average  2022-05-20  Procurement   67950      NZ   \n",
       "181    Male   42           Poor  2022-06-19      Finance   70270      NZ   \n",
       "182    Male   26        Average  2021-08-03  Procurement   53540      NZ   \n",
       "\n",
       "    Salary_Range  Joining_Year  Join_Month  \n",
       "0         $100K+          2020          10  \n",
       "1      $40K–$60K          2021           4  \n",
       "2         $100K+          2022           4  \n",
       "3      $40K–$60K          2021           5  \n",
       "4         $100K+          2020           9  \n",
       "..           ...           ...         ...  \n",
       "178    $60K–$80K          2021           4  \n",
       "179    $60K–$80K          2021           7  \n",
       "180    $60K–$80K          2022           5  \n",
       "181    $60K–$80K          2022           6  \n",
       "182    $40K–$60K          2021           8  \n",
       "\n",
       "[181 rows x 10 columns]"
      ]
     },
     "execution_count": 69,
     "metadata": {},
     "output_type": "execute_result"
    }
   ],
   "source": [
    "data"
   ]
  },
  {
   "cell_type": "code",
   "execution_count": 70,
   "id": "0951878f",
   "metadata": {},
   "outputs": [
    {
     "data": {
      "text/html": [
       "<div>\n",
       "<style scoped>\n",
       "    .dataframe tbody tr th:only-of-type {\n",
       "        vertical-align: middle;\n",
       "    }\n",
       "\n",
       "    .dataframe tbody tr th {\n",
       "        vertical-align: top;\n",
       "    }\n",
       "\n",
       "    .dataframe thead th {\n",
       "        text-align: right;\n",
       "    }\n",
       "</style>\n",
       "<table border=\"1\" class=\"dataframe\">\n",
       "  <thead>\n",
       "    <tr style=\"text-align: right;\">\n",
       "      <th></th>\n",
       "      <th>Join_Month</th>\n",
       "      <th>Emp_Count</th>\n",
       "    </tr>\n",
       "  </thead>\n",
       "  <tbody>\n",
       "    <tr>\n",
       "      <th>0</th>\n",
       "      <td>1</td>\n",
       "      <td>9</td>\n",
       "    </tr>\n",
       "    <tr>\n",
       "      <th>1</th>\n",
       "      <td>2</td>\n",
       "      <td>15</td>\n",
       "    </tr>\n",
       "    <tr>\n",
       "      <th>2</th>\n",
       "      <td>3</td>\n",
       "      <td>18</td>\n",
       "    </tr>\n",
       "    <tr>\n",
       "      <th>3</th>\n",
       "      <td>4</td>\n",
       "      <td>15</td>\n",
       "    </tr>\n",
       "    <tr>\n",
       "      <th>4</th>\n",
       "      <td>5</td>\n",
       "      <td>21</td>\n",
       "    </tr>\n",
       "    <tr>\n",
       "      <th>5</th>\n",
       "      <td>6</td>\n",
       "      <td>14</td>\n",
       "    </tr>\n",
       "    <tr>\n",
       "      <th>6</th>\n",
       "      <td>7</td>\n",
       "      <td>22</td>\n",
       "    </tr>\n",
       "    <tr>\n",
       "      <th>7</th>\n",
       "      <td>8</td>\n",
       "      <td>12</td>\n",
       "    </tr>\n",
       "    <tr>\n",
       "      <th>8</th>\n",
       "      <td>9</td>\n",
       "      <td>19</td>\n",
       "    </tr>\n",
       "    <tr>\n",
       "      <th>9</th>\n",
       "      <td>10</td>\n",
       "      <td>12</td>\n",
       "    </tr>\n",
       "    <tr>\n",
       "      <th>10</th>\n",
       "      <td>11</td>\n",
       "      <td>10</td>\n",
       "    </tr>\n",
       "    <tr>\n",
       "      <th>11</th>\n",
       "      <td>12</td>\n",
       "      <td>14</td>\n",
       "    </tr>\n",
       "  </tbody>\n",
       "</table>\n",
       "</div>"
      ],
      "text/plain": [
       "    Join_Month  Emp_Count\n",
       "0            1          9\n",
       "1            2         15\n",
       "2            3         18\n",
       "3            4         15\n",
       "4            5         21\n",
       "5            6         14\n",
       "6            7         22\n",
       "7            8         12\n",
       "8            9         19\n",
       "9           10         12\n",
       "10          11         10\n",
       "11          12         14"
      ]
     },
     "execution_count": 70,
     "metadata": {},
     "output_type": "execute_result"
    }
   ],
   "source": [
    "join_month=data.groupby('Join_Month').size().reset_index(name='Emp_Count')\n",
    "join_month"
   ]
  },
  {
   "cell_type": "code",
   "execution_count": 71,
   "id": "47784673",
   "metadata": {},
   "outputs": [
    {
     "data": {
      "image/png": "[encoded data removed]",
      "text/plain": [
       "<Figure size 640x480 with 1 Axes>"
      ]
     },
     "metadata": {},
     "output_type": "display_data"
    }
   ],
   "source": [
    "join_month.plot(kind='line',x='Join_Month',y='Emp_Count',marker='o',color='brown')\n",
    "plt.title(\"Employeed Joined Each Month\",fontsize=16)\n",
    "plt.xlabel(\"Joining Month\",fontsize=14)\n",
    "plt.ylabel(\"No of Employees\",fontsize=14)\n",
    "plt.xticks([1,2,3,4,5,6,7,8,9,10,11,12])\n",
    "plt.grid(axis='x',linestyle='--',alpha=0.5)\n",
    "plt.grid(axis='y',linestyle='--',alpha=0.5)\n",
    "plt.tight_layout()\n",
    "plt.show()"
   ]
  },
  {
   "cell_type": "markdown",
   "id": "f386b673",
   "metadata": {},
   "source": [
    "- In Month of July Most Number of Employees has joined the company"
   ]
  },
  {
   "cell_type": "markdown",
   "id": "5e4482ce",
   "metadata": {},
   "source": [
    "**13.What is the average tenure of employees (difference between today and \"Date Joined\")?**"
   ]
  },
  {
   "cell_type": "code",
   "execution_count": 72,
   "id": "8db73012",
   "metadata": {},
   "outputs": [],
   "source": [
    "Today=pd.Timestamp.today()"
   ]
  },
  {
   "cell_type": "code",
   "execution_count": 73,
   "id": "6085cc10",
   "metadata": {},
   "outputs": [
    {
     "data": {
      "text/plain": [
       "Timestamp('2025-01-01 17:14:33.180015')"
      ]
     },
     "execution_count": 73,
     "metadata": {},
     "output_type": "execute_result"
    }
   ],
   "source": [
    "Today"
   ]
  },
  {
   "cell_type": "code",
   "execution_count": 74,
   "id": "7cff21b4",
   "metadata": {},
   "outputs": [],
   "source": [
    "data['Tenure_Days'] = (Today - data['Date Joined']).dt.days\n",
    "data['Tenure_Years'] = (data['Tenure_Days'] / 365).round(2)  # Convert days to years"
   ]
  },
  {
   "cell_type": "code",
   "execution_count": 75,
   "id": "d58aa8d7",
   "metadata": {},
   "outputs": [
    {
     "data": {
      "text/html": [
       "<div>\n",
       "<style scoped>\n",
       "    .dataframe tbody tr th:only-of-type {\n",
       "        vertical-align: middle;\n",
       "    }\n",
       "\n",
       "    .dataframe tbody tr th {\n",
       "        vertical-align: top;\n",
       "    }\n",
       "\n",
       "    .dataframe thead th {\n",
       "        text-align: right;\n",
       "    }\n",
       "</style>\n",
       "<table border=\"1\" class=\"dataframe\">\n",
       "  <thead>\n",
       "    <tr style=\"text-align: right;\">\n",
       "      <th></th>\n",
       "      <th>Gender</th>\n",
       "      <th>Age</th>\n",
       "      <th>Rating</th>\n",
       "      <th>Date Joined</th>\n",
       "      <th>Department</th>\n",
       "      <th>Salary</th>\n",
       "      <th>Country</th>\n",
       "      <th>Salary_Range</th>\n",
       "      <th>Joining_Year</th>\n",
       "      <th>Join_Month</th>\n",
       "      <th>Tenure_Days</th>\n",
       "      <th>Tenure_Years</th>\n",
       "    </tr>\n",
       "  </thead>\n",
       "  <tbody>\n",
       "    <tr>\n",
       "      <th>0</th>\n",
       "      <td>Male</td>\n",
       "      <td>20</td>\n",
       "      <td>Average</td>\n",
       "      <td>2020-10-18</td>\n",
       "      <td>Website</td>\n",
       "      <td>112650</td>\n",
       "      <td>IND</td>\n",
       "      <td>$100K+</td>\n",
       "      <td>2020</td>\n",
       "      <td>10</td>\n",
       "      <td>1536</td>\n",
       "      <td>4.21</td>\n",
       "    </tr>\n",
       "    <tr>\n",
       "      <th>1</th>\n",
       "      <td>Male</td>\n",
       "      <td>32</td>\n",
       "      <td>Above average</td>\n",
       "      <td>2021-04-07</td>\n",
       "      <td>Website</td>\n",
       "      <td>43840</td>\n",
       "      <td>IND</td>\n",
       "      <td>$40K–$60K</td>\n",
       "      <td>2021</td>\n",
       "      <td>4</td>\n",
       "      <td>1365</td>\n",
       "      <td>3.74</td>\n",
       "    </tr>\n",
       "    <tr>\n",
       "      <th>2</th>\n",
       "      <td>Female</td>\n",
       "      <td>31</td>\n",
       "      <td>Average</td>\n",
       "      <td>2022-04-12</td>\n",
       "      <td>Procurement</td>\n",
       "      <td>103550</td>\n",
       "      <td>IND</td>\n",
       "      <td>$100K+</td>\n",
       "      <td>2022</td>\n",
       "      <td>4</td>\n",
       "      <td>995</td>\n",
       "      <td>2.73</td>\n",
       "    </tr>\n",
       "    <tr>\n",
       "      <th>3</th>\n",
       "      <td>Male</td>\n",
       "      <td>32</td>\n",
       "      <td>Average</td>\n",
       "      <td>2021-05-23</td>\n",
       "      <td>HR</td>\n",
       "      <td>45510</td>\n",
       "      <td>IND</td>\n",
       "      <td>$40K–$60K</td>\n",
       "      <td>2021</td>\n",
       "      <td>5</td>\n",
       "      <td>1319</td>\n",
       "      <td>3.61</td>\n",
       "    </tr>\n",
       "    <tr>\n",
       "      <th>4</th>\n",
       "      <td>Female</td>\n",
       "      <td>37</td>\n",
       "      <td>Poor</td>\n",
       "      <td>2020-09-11</td>\n",
       "      <td>Finance</td>\n",
       "      <td>115440</td>\n",
       "      <td>IND</td>\n",
       "      <td>$100K+</td>\n",
       "      <td>2020</td>\n",
       "      <td>9</td>\n",
       "      <td>1573</td>\n",
       "      <td>4.31</td>\n",
       "    </tr>\n",
       "    <tr>\n",
       "      <th>...</th>\n",
       "      <td>...</td>\n",
       "      <td>...</td>\n",
       "      <td>...</td>\n",
       "      <td>...</td>\n",
       "      <td>...</td>\n",
       "      <td>...</td>\n",
       "      <td>...</td>\n",
       "      <td>...</td>\n",
       "      <td>...</td>\n",
       "      <td>...</td>\n",
       "      <td>...</td>\n",
       "      <td>...</td>\n",
       "    </tr>\n",
       "    <tr>\n",
       "      <th>178</th>\n",
       "      <td>Female</td>\n",
       "      <td>33</td>\n",
       "      <td>Average</td>\n",
       "      <td>2021-04-26</td>\n",
       "      <td>Website</td>\n",
       "      <td>75280</td>\n",
       "      <td>NZ</td>\n",
       "      <td>$60K–$80K</td>\n",
       "      <td>2021</td>\n",
       "      <td>4</td>\n",
       "      <td>1346</td>\n",
       "      <td>3.69</td>\n",
       "    </tr>\n",
       "    <tr>\n",
       "      <th>179</th>\n",
       "      <td>Male</td>\n",
       "      <td>33</td>\n",
       "      <td>Average</td>\n",
       "      <td>2021-07-08</td>\n",
       "      <td>Sales</td>\n",
       "      <td>74550</td>\n",
       "      <td>NZ</td>\n",
       "      <td>$60K–$80K</td>\n",
       "      <td>2021</td>\n",
       "      <td>7</td>\n",
       "      <td>1273</td>\n",
       "      <td>3.49</td>\n",
       "    </tr>\n",
       "    <tr>\n",
       "      <th>180</th>\n",
       "      <td>Male</td>\n",
       "      <td>30</td>\n",
       "      <td>Average</td>\n",
       "      <td>2022-05-20</td>\n",
       "      <td>Procurement</td>\n",
       "      <td>67950</td>\n",
       "      <td>NZ</td>\n",
       "      <td>$60K–$80K</td>\n",
       "      <td>2022</td>\n",
       "      <td>5</td>\n",
       "      <td>957</td>\n",
       "      <td>2.62</td>\n",
       "    </tr>\n",
       "    <tr>\n",
       "      <th>181</th>\n",
       "      <td>Male</td>\n",
       "      <td>42</td>\n",
       "      <td>Poor</td>\n",
       "      <td>2022-06-19</td>\n",
       "      <td>Finance</td>\n",
       "      <td>70270</td>\n",
       "      <td>NZ</td>\n",
       "      <td>$60K–$80K</td>\n",
       "      <td>2022</td>\n",
       "      <td>6</td>\n",
       "      <td>927</td>\n",
       "      <td>2.54</td>\n",
       "    </tr>\n",
       "    <tr>\n",
       "      <th>182</th>\n",
       "      <td>Male</td>\n",
       "      <td>26</td>\n",
       "      <td>Average</td>\n",
       "      <td>2021-08-03</td>\n",
       "      <td>Procurement</td>\n",
       "      <td>53540</td>\n",
       "      <td>NZ</td>\n",
       "      <td>$40K–$60K</td>\n",
       "      <td>2021</td>\n",
       "      <td>8</td>\n",
       "      <td>1247</td>\n",
       "      <td>3.42</td>\n",
       "    </tr>\n",
       "  </tbody>\n",
       "</table>\n",
       "<p>181 rows × 12 columns</p>\n",
       "</div>"
      ],
      "text/plain": [
       "     Gender  Age         Rating Date Joined   Department  Salary Country  \\\n",
       "0      Male   20        Average  2020-10-18      Website  112650     IND   \n",
       "1      Male   32  Above average  2021-04-07      Website   43840     IND   \n",
       "2    Female   31        Average  2022-04-12  Procurement  103550     IND   \n",
       "3      Male   32        Average  2021-05-23           HR   45510     IND   \n",
       "4    Female   37           Poor  2020-09-11      Finance  115440     IND   \n",
       "..      ...  ...            ...         ...          ...     ...     ...   \n",
       "178  Female   33        Average  2021-04-26      Website   75280      NZ   \n",
       "179    Male   33        Average  2021-07-08        Sales   74550      NZ   \n",
       "180    Male   30        Average  2022-05-20  Procurement   67950      NZ   \n",
       "181    Male   42           Poor  2022-06-19      Finance   70270      NZ   \n",
       "182    Male   26        Average  2021-08-03  Procurement   53540      NZ   \n",
       "\n",
       "    Salary_Range  Joining_Year  Join_Month  Tenure_Days  Tenure_Years  \n",
       "0         $100K+          2020          10         1536          4.21  \n",
       "1      $40K–$60K          2021           4         1365          3.74  \n",
       "2         $100K+          2022           4          995          2.73  \n",
       "3      $40K–$60K          2021           5         1319          3.61  \n",
       "4         $100K+          2020           9         1573          4.31  \n",
       "..           ...           ...         ...          ...           ...  \n",
       "178    $60K–$80K          2021           4         1346          3.69  \n",
       "179    $60K–$80K          2021           7         1273          3.49  \n",
       "180    $60K–$80K          2022           5          957          2.62  \n",
       "181    $60K–$80K          2022           6          927          2.54  \n",
       "182    $40K–$60K          2021           8         1247          3.42  \n",
       "\n",
       "[181 rows x 12 columns]"
      ]
     },
     "execution_count": 75,
     "metadata": {},
     "output_type": "execute_result"
    }
   ],
   "source": [
    "data"
   ]
  },
  {
   "cell_type": "code",
   "execution_count": 76,
   "id": "a58fdd10",
   "metadata": {},
   "outputs": [
    {
     "data": {
      "text/plain": [
       "3.3652486187845287"
      ]
     },
     "execution_count": 76,
     "metadata": {},
     "output_type": "execute_result"
    }
   ],
   "source": [
    "# average Tenure Years\n",
    "data['Tenure_Years'].mean()"
   ]
  },
  {
   "cell_type": "code",
   "execution_count": 77,
   "id": "14d0a769",
   "metadata": {},
   "outputs": [
    {
     "data": {
      "text/plain": [
       "1228.220994475138"
      ]
     },
     "execution_count": 77,
     "metadata": {},
     "output_type": "execute_result"
    }
   ],
   "source": [
    "# average Tenure days\n",
    "data['Tenure_Days'].mean()"
   ]
  },
  {
   "cell_type": "code",
   "execution_count": 78,
   "id": "c6a0df87",
   "metadata": {},
   "outputs": [
    {
     "data": {
      "text/html": [
       "<div>\n",
       "<style scoped>\n",
       "    .dataframe tbody tr th:only-of-type {\n",
       "        vertical-align: middle;\n",
       "    }\n",
       "\n",
       "    .dataframe tbody tr th {\n",
       "        vertical-align: top;\n",
       "    }\n",
       "\n",
       "    .dataframe thead th {\n",
       "        text-align: right;\n",
       "    }\n",
       "</style>\n",
       "<table border=\"1\" class=\"dataframe\">\n",
       "  <thead>\n",
       "    <tr style=\"text-align: right;\">\n",
       "      <th></th>\n",
       "      <th>Department</th>\n",
       "      <th>Avg_Exp_Yrs</th>\n",
       "    </tr>\n",
       "  </thead>\n",
       "  <tbody>\n",
       "    <tr>\n",
       "      <th>0</th>\n",
       "      <td>Finance</td>\n",
       "      <td>3.492368</td>\n",
       "    </tr>\n",
       "    <tr>\n",
       "      <th>1</th>\n",
       "      <td>HR</td>\n",
       "      <td>3.796250</td>\n",
       "    </tr>\n",
       "    <tr>\n",
       "      <th>2</th>\n",
       "      <td>Procurement</td>\n",
       "      <td>3.125472</td>\n",
       "    </tr>\n",
       "    <tr>\n",
       "      <th>3</th>\n",
       "      <td>Sales</td>\n",
       "      <td>3.398929</td>\n",
       "    </tr>\n",
       "    <tr>\n",
       "      <th>4</th>\n",
       "      <td>Website</td>\n",
       "      <td>3.429815</td>\n",
       "    </tr>\n",
       "  </tbody>\n",
       "</table>\n",
       "</div>"
      ],
      "text/plain": [
       "    Department  Avg_Exp_Yrs\n",
       "0      Finance     3.492368\n",
       "1           HR     3.796250\n",
       "2  Procurement     3.125472\n",
       "3        Sales     3.398929\n",
       "4      Website     3.429815"
      ]
     },
     "execution_count": 78,
     "metadata": {},
     "output_type": "execute_result"
    }
   ],
   "source": [
    "#average tenure by department\n",
    "Avg_Exp=data.groupby('Department')['Tenure_Years'].mean().reset_index(name='Avg_Exp_Yrs')\n",
    "Avg_Exp"
   ]
  },
  {
   "cell_type": "code",
   "execution_count": 79,
   "id": "ea1683d8",
   "metadata": {},
   "outputs": [
    {
     "data": {
      "image/png": "[encoded data removed]",
      "text/plain": [
       "<Figure size 640x480 with 1 Axes>"
      ]
     },
     "metadata": {},
     "output_type": "display_data"
    }
   ],
   "source": [
    "Avg_Exp.plot(kind='bar',x='Department',y='Avg_Exp_Yrs',color='lightgreen',edgecolor='red')\n",
    "plt.title(\"Average Tenure By Department\")\n",
    "plt.xticks(rotation=0,fontsize=8)\n",
    "plt.xlabel(\"Deparmtent\")\n",
    "plt.ylabel(\"Average Tenure\")\n",
    "plt.grid(axis='y', linestyle='--', alpha=0.7)\n",
    "plt.tight_layout()\n",
    "plt.show()"
   ]
  },
  {
   "cell_type": "markdown",
   "id": "8a005ead",
   "metadata": {},
   "source": [
    "**Observation:**\n",
    "- HR Department has most average experience.\n",
    "- Procurement has least experience.\n",
    "\n",
    "**14.What is the relationship between age and salary? Do older employees earn more?**"
   ]
  },
  {
   "cell_type": "code",
   "execution_count": 80,
   "id": "4d5629e9",
   "metadata": {},
   "outputs": [
    {
     "data": {
      "text/plain": [
       "0.0801901447457483"
      ]
     },
     "execution_count": 80,
     "metadata": {},
     "output_type": "execute_result"
    }
   ],
   "source": [
    "data['Age'].corr(data['Salary'])"
   ]
  },
  {
   "cell_type": "code",
   "execution_count": 81,
   "id": "45c5e622",
   "metadata": {},
   "outputs": [
    {
     "data": {
      "image/png": "[encoded data removed]",
      "text/plain": [
       "<Figure size 1000x600 with 1 Axes>"
      ]
     },
     "metadata": {},
     "output_type": "display_data"
    }
   ],
   "source": [
    "plt.figure(figsize=(10, 6))\n",
    "plt.scatter(data['Age'], data['Salary'], alpha=0.6, color='red', edgecolor='black')\n",
    "plt.title('Relationship Between Age and Salary', fontsize=16)\n",
    "plt.xlabel('Age', fontsize=14)\n",
    "plt.ylabel('Salary', fontsize=14)\n",
    "plt.grid(alpha=0.3)\n",
    "plt.tight_layout()\n",
    "plt.show()"
   ]
  },
  {
   "cell_type": "markdown",
   "id": "fc6dbc4a",
   "metadata": {},
   "source": [
    "**Observation:**\n",
    "- A very weak positive relationship between age and salary. This suggests that, while there might be a slight tendency for older employees to earn more, the relationship is almost negligible.\n",
    "- Age might not significantly influence salary in your organization.\n",
    "- Other factors (e.g.department, performance, gender, country, Expereience) may play a more significant role in determining salary."
   ]
  },
  {
   "cell_type": "markdown",
   "id": "d4e500b1",
   "metadata": {},
   "source": [
    "**14. Is Salary Depends on Rating or Department?**"
   ]
  },
  {
   "cell_type": "code",
   "execution_count": 82,
   "id": "801adea4",
   "metadata": {},
   "outputs": [],
   "source": [
    "from sklearn.preprocessing import LabelEncoder"
   ]
  },
  {
   "cell_type": "code",
   "execution_count": 83,
   "id": "730a502a",
   "metadata": {},
   "outputs": [
    {
     "data": {
      "text/html": [
       "<div>\n",
       "<style scoped>\n",
       "    .dataframe tbody tr th:only-of-type {\n",
       "        vertical-align: middle;\n",
       "    }\n",
       "\n",
       "    .dataframe tbody tr th {\n",
       "        vertical-align: top;\n",
       "    }\n",
       "\n",
       "    .dataframe thead th {\n",
       "        text-align: right;\n",
       "    }\n",
       "</style>\n",
       "<table border=\"1\" class=\"dataframe\">\n",
       "  <thead>\n",
       "    <tr style=\"text-align: right;\">\n",
       "      <th></th>\n",
       "      <th>Gender</th>\n",
       "      <th>Age</th>\n",
       "      <th>Rating</th>\n",
       "      <th>Date Joined</th>\n",
       "      <th>Department</th>\n",
       "      <th>Salary</th>\n",
       "      <th>Country</th>\n",
       "      <th>Salary_Range</th>\n",
       "      <th>Joining_Year</th>\n",
       "      <th>Join_Month</th>\n",
       "      <th>Tenure_Days</th>\n",
       "      <th>Tenure_Years</th>\n",
       "      <th>Rating_Enc</th>\n",
       "    </tr>\n",
       "  </thead>\n",
       "  <tbody>\n",
       "    <tr>\n",
       "      <th>0</th>\n",
       "      <td>Male</td>\n",
       "      <td>20</td>\n",
       "      <td>Average</td>\n",
       "      <td>2020-10-18</td>\n",
       "      <td>Website</td>\n",
       "      <td>112650</td>\n",
       "      <td>IND</td>\n",
       "      <td>$100K+</td>\n",
       "      <td>2020</td>\n",
       "      <td>10</td>\n",
       "      <td>1536</td>\n",
       "      <td>4.21</td>\n",
       "      <td>3</td>\n",
       "    </tr>\n",
       "    <tr>\n",
       "      <th>1</th>\n",
       "      <td>Male</td>\n",
       "      <td>32</td>\n",
       "      <td>Above average</td>\n",
       "      <td>2021-04-07</td>\n",
       "      <td>Website</td>\n",
       "      <td>43840</td>\n",
       "      <td>IND</td>\n",
       "      <td>$40K–$60K</td>\n",
       "      <td>2021</td>\n",
       "      <td>4</td>\n",
       "      <td>1365</td>\n",
       "      <td>3.74</td>\n",
       "      <td>4</td>\n",
       "    </tr>\n",
       "  </tbody>\n",
       "</table>\n",
       "</div>"
      ],
      "text/plain": [
       "  Gender  Age         Rating Date Joined Department  Salary Country  \\\n",
       "0   Male   20        Average  2020-10-18    Website  112650     IND   \n",
       "1   Male   32  Above average  2021-04-07    Website   43840     IND   \n",
       "\n",
       "  Salary_Range  Joining_Year  Join_Month  Tenure_Days  Tenure_Years  \\\n",
       "0       $100K+          2020          10         1536          4.21   \n",
       "1    $40K–$60K          2021           4         1365          3.74   \n",
       "\n",
       "   Rating_Enc  \n",
       "0           3  \n",
       "1           4  "
      ]
     },
     "execution_count": 83,
     "metadata": {},
     "output_type": "execute_result"
    }
   ],
   "source": [
    "data['Rating_Enc']=data['Rating'].map({'Very poor': 1,'Poor': 2,'Average':3,'Above average':4,'Exceptional':5})\n",
    "data.head(2)"
   ]
  },
  {
   "cell_type": "code",
   "execution_count": 84,
   "id": "f9daaedc",
   "metadata": {},
   "outputs": [
    {
     "data": {
      "text/html": [
       "<div>\n",
       "<style scoped>\n",
       "    .dataframe tbody tr th:only-of-type {\n",
       "        vertical-align: middle;\n",
       "    }\n",
       "\n",
       "    .dataframe tbody tr th {\n",
       "        vertical-align: top;\n",
       "    }\n",
       "\n",
       "    .dataframe thead th {\n",
       "        text-align: right;\n",
       "    }\n",
       "</style>\n",
       "<table border=\"1\" class=\"dataframe\">\n",
       "  <thead>\n",
       "    <tr style=\"text-align: right;\">\n",
       "      <th></th>\n",
       "      <th>Gender</th>\n",
       "      <th>Age</th>\n",
       "      <th>Rating</th>\n",
       "      <th>Date Joined</th>\n",
       "      <th>Department</th>\n",
       "      <th>Salary</th>\n",
       "      <th>Country</th>\n",
       "      <th>Salary_Range</th>\n",
       "      <th>Joining_Year</th>\n",
       "      <th>Join_Month</th>\n",
       "      <th>Tenure_Days</th>\n",
       "      <th>Tenure_Years</th>\n",
       "      <th>Rating_Enc</th>\n",
       "      <th>Department_le</th>\n",
       "    </tr>\n",
       "  </thead>\n",
       "  <tbody>\n",
       "    <tr>\n",
       "      <th>0</th>\n",
       "      <td>Male</td>\n",
       "      <td>20</td>\n",
       "      <td>Average</td>\n",
       "      <td>2020-10-18</td>\n",
       "      <td>Website</td>\n",
       "      <td>112650</td>\n",
       "      <td>IND</td>\n",
       "      <td>$100K+</td>\n",
       "      <td>2020</td>\n",
       "      <td>10</td>\n",
       "      <td>1536</td>\n",
       "      <td>4.21</td>\n",
       "      <td>3</td>\n",
       "      <td>4</td>\n",
       "    </tr>\n",
       "    <tr>\n",
       "      <th>1</th>\n",
       "      <td>Male</td>\n",
       "      <td>32</td>\n",
       "      <td>Above average</td>\n",
       "      <td>2021-04-07</td>\n",
       "      <td>Website</td>\n",
       "      <td>43840</td>\n",
       "      <td>IND</td>\n",
       "      <td>$40K–$60K</td>\n",
       "      <td>2021</td>\n",
       "      <td>4</td>\n",
       "      <td>1365</td>\n",
       "      <td>3.74</td>\n",
       "      <td>4</td>\n",
       "      <td>4</td>\n",
       "    </tr>\n",
       "  </tbody>\n",
       "</table>\n",
       "</div>"
      ],
      "text/plain": [
       "  Gender  Age         Rating Date Joined Department  Salary Country  \\\n",
       "0   Male   20        Average  2020-10-18    Website  112650     IND   \n",
       "1   Male   32  Above average  2021-04-07    Website   43840     IND   \n",
       "\n",
       "  Salary_Range  Joining_Year  Join_Month  Tenure_Days  Tenure_Years  \\\n",
       "0       $100K+          2020          10         1536          4.21   \n",
       "1    $40K–$60K          2021           4         1365          3.74   \n",
       "\n",
       "   Rating_Enc  Department_le  \n",
       "0           3              4  \n",
       "1           4              4  "
      ]
     },
     "execution_count": 84,
     "metadata": {},
     "output_type": "execute_result"
    }
   ],
   "source": [
    "from sklearn.preprocessing import LabelEncoder\n",
    "le=LabelEncoder()\n",
    "data['Department_le']=le.fit_transform(data['Department'])\n",
    "data.head(2)"
   ]
  },
  {
   "cell_type": "code",
   "execution_count": 85,
   "id": "5644f94c",
   "metadata": {},
   "outputs": [
    {
     "data": {
      "text/plain": [
       "0.026152238135908855"
      ]
     },
     "execution_count": 85,
     "metadata": {},
     "output_type": "execute_result"
    }
   ],
   "source": [
    "#correlation b/w Rating and Salary\n",
    "data['Rating_Enc'].corr(data['Salary'])"
   ]
  },
  {
   "cell_type": "code",
   "execution_count": 86,
   "id": "b2ef6417",
   "metadata": {},
   "outputs": [
    {
     "data": {
      "text/plain": [
       "0.02477820022414409"
      ]
     },
     "execution_count": 86,
     "metadata": {},
     "output_type": "execute_result"
    }
   ],
   "source": [
    "#correlation between Department And Salary\n",
    "data['Department_le'].corr(data['Salary'])"
   ]
  },
  {
   "cell_type": "code",
   "execution_count": 87,
   "id": "10c7aa59",
   "metadata": {},
   "outputs": [
    {
     "data": {
      "image/png": "[encoded data removed]",
      "text/plain": [
       "<Figure size 1000x600 with 1 Axes>"
      ]
     },
     "metadata": {},
     "output_type": "display_data"
    }
   ],
   "source": [
    "plt.figure(figsize=(10, 6))\n",
    "plt.scatter(data['Rating_Enc'], data['Salary'], alpha=0.3, color='pink', edgecolor='black')\n",
    "plt.scatter(data['Department_le'], data['Salary'], alpha=0.3, color='yellow', edgecolor='red')\n",
    "plt.title('Relationship Between Age vs Rating & Department', fontsize=16)\n",
    "plt.ylabel('Salary', fontsize=14)\n",
    "plt.grid(alpha=0.3)\n",
    "plt.tight_layout()\n",
    "plt.show()"
   ]
  },
  {
   "cell_type": "markdown",
   "id": "2b261fb3",
   "metadata": {},
   "source": [
    "**Observations:**\n",
    "- Here also, no much correlation has been observed neither by Department nor by Rating or Performance\n",
    "- Then we have to check either it is dependent on Experience or not"
   ]
  },
  {
   "cell_type": "markdown",
   "id": "0e80c65c",
   "metadata": {},
   "source": [
    "**15. Is salary depends upon experience of employee?**"
   ]
  },
  {
   "cell_type": "code",
   "execution_count": 88,
   "id": "514d90e5",
   "metadata": {},
   "outputs": [],
   "source": [
    "#sal_cor=data['Tenure_Days'].corr(data['Salary'])\n",
    "sal_cor=data[['Tenure_Days','Salary']].corr()"
   ]
  },
  {
   "cell_type": "code",
   "execution_count": 89,
   "id": "862fc301",
   "metadata": {},
   "outputs": [
    {
     "data": {
      "image/png": "[encoded data removed]",
      "text/plain": [
       "<Figure size 640x480 with 2 Axes>"
      ]
     },
     "metadata": {},
     "output_type": "display_data"
    }
   ],
   "source": [
    "sns.heatmap(sal_cor,annot=True,fmt='0.2f')\n",
    "plt.show()"
   ]
  },
  {
   "cell_type": "code",
   "execution_count": 90,
   "id": "eab952f8",
   "metadata": {},
   "outputs": [
    {
     "data": {
      "text/html": [
       "<div>\n",
       "<style scoped>\n",
       "    .dataframe tbody tr th:only-of-type {\n",
       "        vertical-align: middle;\n",
       "    }\n",
       "\n",
       "    .dataframe tbody tr th {\n",
       "        vertical-align: top;\n",
       "    }\n",
       "\n",
       "    .dataframe thead th {\n",
       "        text-align: right;\n",
       "    }\n",
       "</style>\n",
       "<table border=\"1\" class=\"dataframe\">\n",
       "  <thead>\n",
       "    <tr style=\"text-align: right;\">\n",
       "      <th></th>\n",
       "      <th>Gender</th>\n",
       "      <th>Age</th>\n",
       "      <th>Rating</th>\n",
       "      <th>Date Joined</th>\n",
       "      <th>Department</th>\n",
       "      <th>Salary</th>\n",
       "      <th>Country</th>\n",
       "      <th>Salary_Range</th>\n",
       "      <th>Joining_Year</th>\n",
       "      <th>Join_Month</th>\n",
       "      <th>Tenure_Days</th>\n",
       "      <th>Tenure_Years</th>\n",
       "      <th>Rating_Enc</th>\n",
       "      <th>Department_le</th>\n",
       "    </tr>\n",
       "  </thead>\n",
       "  <tbody>\n",
       "    <tr>\n",
       "      <th>0</th>\n",
       "      <td>Male</td>\n",
       "      <td>20</td>\n",
       "      <td>Average</td>\n",
       "      <td>2020-10-18</td>\n",
       "      <td>Website</td>\n",
       "      <td>112650</td>\n",
       "      <td>IND</td>\n",
       "      <td>$100K+</td>\n",
       "      <td>2020</td>\n",
       "      <td>10</td>\n",
       "      <td>1536</td>\n",
       "      <td>4.21</td>\n",
       "      <td>3</td>\n",
       "      <td>4</td>\n",
       "    </tr>\n",
       "    <tr>\n",
       "      <th>2</th>\n",
       "      <td>Female</td>\n",
       "      <td>31</td>\n",
       "      <td>Average</td>\n",
       "      <td>2022-04-12</td>\n",
       "      <td>Procurement</td>\n",
       "      <td>103550</td>\n",
       "      <td>IND</td>\n",
       "      <td>$100K+</td>\n",
       "      <td>2022</td>\n",
       "      <td>4</td>\n",
       "      <td>995</td>\n",
       "      <td>2.73</td>\n",
       "      <td>3</td>\n",
       "      <td>2</td>\n",
       "    </tr>\n",
       "    <tr>\n",
       "      <th>4</th>\n",
       "      <td>Female</td>\n",
       "      <td>37</td>\n",
       "      <td>Poor</td>\n",
       "      <td>2020-09-11</td>\n",
       "      <td>Finance</td>\n",
       "      <td>115440</td>\n",
       "      <td>IND</td>\n",
       "      <td>$100K+</td>\n",
       "      <td>2020</td>\n",
       "      <td>9</td>\n",
       "      <td>1573</td>\n",
       "      <td>4.31</td>\n",
       "      <td>2</td>\n",
       "      <td>0</td>\n",
       "    </tr>\n",
       "    <tr>\n",
       "      <th>9</th>\n",
       "      <td>Male</td>\n",
       "      <td>25</td>\n",
       "      <td>Above average</td>\n",
       "      <td>2022-04-14</td>\n",
       "      <td>Procurement</td>\n",
       "      <td>109190</td>\n",
       "      <td>IND</td>\n",
       "      <td>$100K+</td>\n",
       "      <td>2022</td>\n",
       "      <td>4</td>\n",
       "      <td>993</td>\n",
       "      <td>2.72</td>\n",
       "      <td>4</td>\n",
       "      <td>2</td>\n",
       "    </tr>\n",
       "    <tr>\n",
       "      <th>10</th>\n",
       "      <td>Male</td>\n",
       "      <td>40</td>\n",
       "      <td>Average</td>\n",
       "      <td>2021-05-04</td>\n",
       "      <td>Website</td>\n",
       "      <td>104410</td>\n",
       "      <td>IND</td>\n",
       "      <td>$100K+</td>\n",
       "      <td>2021</td>\n",
       "      <td>5</td>\n",
       "      <td>1338</td>\n",
       "      <td>3.67</td>\n",
       "      <td>3</td>\n",
       "      <td>4</td>\n",
       "    </tr>\n",
       "    <tr>\n",
       "      <th>14</th>\n",
       "      <td>Female</td>\n",
       "      <td>34</td>\n",
       "      <td>Average</td>\n",
       "      <td>2022-03-22</td>\n",
       "      <td>Procurement</td>\n",
       "      <td>112650</td>\n",
       "      <td>IND</td>\n",
       "      <td>$100K+</td>\n",
       "      <td>2022</td>\n",
       "      <td>3</td>\n",
       "      <td>1016</td>\n",
       "      <td>2.78</td>\n",
       "      <td>3</td>\n",
       "      <td>2</td>\n",
       "    </tr>\n",
       "    <tr>\n",
       "      <th>16</th>\n",
       "      <td>Male</td>\n",
       "      <td>36</td>\n",
       "      <td>Average</td>\n",
       "      <td>2020-05-07</td>\n",
       "      <td>Website</td>\n",
       "      <td>118840</td>\n",
       "      <td>IND</td>\n",
       "      <td>$100K+</td>\n",
       "      <td>2020</td>\n",
       "      <td>5</td>\n",
       "      <td>1700</td>\n",
       "      <td>4.66</td>\n",
       "      <td>3</td>\n",
       "      <td>4</td>\n",
       "    </tr>\n",
       "    <tr>\n",
       "      <th>25</th>\n",
       "      <td>Male</td>\n",
       "      <td>24</td>\n",
       "      <td>Average</td>\n",
       "      <td>2022-03-05</td>\n",
       "      <td>Website</td>\n",
       "      <td>100420</td>\n",
       "      <td>IND</td>\n",
       "      <td>$100K+</td>\n",
       "      <td>2022</td>\n",
       "      <td>3</td>\n",
       "      <td>1033</td>\n",
       "      <td>2.83</td>\n",
       "      <td>3</td>\n",
       "      <td>4</td>\n",
       "    </tr>\n",
       "    <tr>\n",
       "      <th>27</th>\n",
       "      <td>Female</td>\n",
       "      <td>44</td>\n",
       "      <td>Average</td>\n",
       "      <td>2023-02-28</td>\n",
       "      <td>Website</td>\n",
       "      <td>114870</td>\n",
       "      <td>IND</td>\n",
       "      <td>$100K+</td>\n",
       "      <td>2023</td>\n",
       "      <td>2</td>\n",
       "      <td>673</td>\n",
       "      <td>1.84</td>\n",
       "      <td>3</td>\n",
       "      <td>4</td>\n",
       "    </tr>\n",
       "    <tr>\n",
       "      <th>29</th>\n",
       "      <td>Female</td>\n",
       "      <td>30</td>\n",
       "      <td>Average</td>\n",
       "      <td>2022-08-27</td>\n",
       "      <td>Procurement</td>\n",
       "      <td>112570</td>\n",
       "      <td>IND</td>\n",
       "      <td>$100K+</td>\n",
       "      <td>2022</td>\n",
       "      <td>8</td>\n",
       "      <td>858</td>\n",
       "      <td>2.35</td>\n",
       "      <td>3</td>\n",
       "      <td>2</td>\n",
       "    </tr>\n",
       "    <tr>\n",
       "      <th>35</th>\n",
       "      <td>Male</td>\n",
       "      <td>29</td>\n",
       "      <td>Poor</td>\n",
       "      <td>2020-10-15</td>\n",
       "      <td>Website</td>\n",
       "      <td>112110</td>\n",
       "      <td>IND</td>\n",
       "      <td>$100K+</td>\n",
       "      <td>2020</td>\n",
       "      <td>10</td>\n",
       "      <td>1539</td>\n",
       "      <td>4.22</td>\n",
       "      <td>2</td>\n",
       "      <td>4</td>\n",
       "    </tr>\n",
       "    <tr>\n",
       "      <th>36</th>\n",
       "      <td>Female</td>\n",
       "      <td>27</td>\n",
       "      <td>Average</td>\n",
       "      <td>2020-08-18</td>\n",
       "      <td>HR</td>\n",
       "      <td>119110</td>\n",
       "      <td>IND</td>\n",
       "      <td>$100K+</td>\n",
       "      <td>2020</td>\n",
       "      <td>8</td>\n",
       "      <td>1597</td>\n",
       "      <td>4.38</td>\n",
       "      <td>3</td>\n",
       "      <td>1</td>\n",
       "    </tr>\n",
       "    <tr>\n",
       "      <th>37</th>\n",
       "      <td>Male</td>\n",
       "      <td>22</td>\n",
       "      <td>Above average</td>\n",
       "      <td>2021-07-07</td>\n",
       "      <td>Sales</td>\n",
       "      <td>112780</td>\n",
       "      <td>IND</td>\n",
       "      <td>$100K+</td>\n",
       "      <td>2021</td>\n",
       "      <td>7</td>\n",
       "      <td>1274</td>\n",
       "      <td>3.49</td>\n",
       "      <td>4</td>\n",
       "      <td>3</td>\n",
       "    </tr>\n",
       "    <tr>\n",
       "      <th>38</th>\n",
       "      <td>Female</td>\n",
       "      <td>36</td>\n",
       "      <td>Average</td>\n",
       "      <td>2020-07-11</td>\n",
       "      <td>Procurement</td>\n",
       "      <td>114890</td>\n",
       "      <td>IND</td>\n",
       "      <td>$100K+</td>\n",
       "      <td>2020</td>\n",
       "      <td>7</td>\n",
       "      <td>1635</td>\n",
       "      <td>4.48</td>\n",
       "      <td>3</td>\n",
       "      <td>2</td>\n",
       "    </tr>\n",
       "    <tr>\n",
       "      <th>46</th>\n",
       "      <td>Female</td>\n",
       "      <td>28</td>\n",
       "      <td>Average</td>\n",
       "      <td>2021-08-17</td>\n",
       "      <td>Procurement</td>\n",
       "      <td>104770</td>\n",
       "      <td>IND</td>\n",
       "      <td>$100K+</td>\n",
       "      <td>2021</td>\n",
       "      <td>8</td>\n",
       "      <td>1233</td>\n",
       "      <td>3.38</td>\n",
       "      <td>3</td>\n",
       "      <td>2</td>\n",
       "    </tr>\n",
       "    <tr>\n",
       "      <th>53</th>\n",
       "      <td>Male</td>\n",
       "      <td>33</td>\n",
       "      <td>Average</td>\n",
       "      <td>2020-09-29</td>\n",
       "      <td>Procurement</td>\n",
       "      <td>115920</td>\n",
       "      <td>IND</td>\n",
       "      <td>$100K+</td>\n",
       "      <td>2020</td>\n",
       "      <td>9</td>\n",
       "      <td>1555</td>\n",
       "      <td>4.26</td>\n",
       "      <td>3</td>\n",
       "      <td>2</td>\n",
       "    </tr>\n",
       "    <tr>\n",
       "      <th>63</th>\n",
       "      <td>Female</td>\n",
       "      <td>38</td>\n",
       "      <td>Exceptional</td>\n",
       "      <td>2021-04-30</td>\n",
       "      <td>Sales</td>\n",
       "      <td>109160</td>\n",
       "      <td>IND</td>\n",
       "      <td>$100K+</td>\n",
       "      <td>2021</td>\n",
       "      <td>4</td>\n",
       "      <td>1342</td>\n",
       "      <td>3.68</td>\n",
       "      <td>5</td>\n",
       "      <td>3</td>\n",
       "    </tr>\n",
       "    <tr>\n",
       "      <th>67</th>\n",
       "      <td>Male</td>\n",
       "      <td>27</td>\n",
       "      <td>Very poor</td>\n",
       "      <td>2021-12-17</td>\n",
       "      <td>Procurement</td>\n",
       "      <td>113280</td>\n",
       "      <td>IND</td>\n",
       "      <td>$100K+</td>\n",
       "      <td>2021</td>\n",
       "      <td>12</td>\n",
       "      <td>1111</td>\n",
       "      <td>3.04</td>\n",
       "      <td>1</td>\n",
       "      <td>2</td>\n",
       "    </tr>\n",
       "    <tr>\n",
       "      <th>74</th>\n",
       "      <td>Male</td>\n",
       "      <td>23</td>\n",
       "      <td>Average</td>\n",
       "      <td>2021-07-01</td>\n",
       "      <td>Procurement</td>\n",
       "      <td>106460</td>\n",
       "      <td>IND</td>\n",
       "      <td>$100K+</td>\n",
       "      <td>2021</td>\n",
       "      <td>7</td>\n",
       "      <td>1280</td>\n",
       "      <td>3.51</td>\n",
       "      <td>3</td>\n",
       "      <td>2</td>\n",
       "    </tr>\n",
       "    <tr>\n",
       "      <th>75</th>\n",
       "      <td>Female</td>\n",
       "      <td>37</td>\n",
       "      <td>Average</td>\n",
       "      <td>2021-07-12</td>\n",
       "      <td>HR</td>\n",
       "      <td>118100</td>\n",
       "      <td>IND</td>\n",
       "      <td>$100K+</td>\n",
       "      <td>2021</td>\n",
       "      <td>7</td>\n",
       "      <td>1269</td>\n",
       "      <td>3.48</td>\n",
       "      <td>3</td>\n",
       "      <td>1</td>\n",
       "    </tr>\n",
       "    <tr>\n",
       "      <th>77</th>\n",
       "      <td>Female</td>\n",
       "      <td>30</td>\n",
       "      <td>Average</td>\n",
       "      <td>2022-08-16</td>\n",
       "      <td>Procurement</td>\n",
       "      <td>114180</td>\n",
       "      <td>IND</td>\n",
       "      <td>$100K+</td>\n",
       "      <td>2022</td>\n",
       "      <td>8</td>\n",
       "      <td>869</td>\n",
       "      <td>2.38</td>\n",
       "      <td>3</td>\n",
       "      <td>2</td>\n",
       "    </tr>\n",
       "    <tr>\n",
       "      <th>78</th>\n",
       "      <td>Female</td>\n",
       "      <td>28</td>\n",
       "      <td>Average</td>\n",
       "      <td>2022-01-29</td>\n",
       "      <td>Procurement</td>\n",
       "      <td>104120</td>\n",
       "      <td>IND</td>\n",
       "      <td>$100K+</td>\n",
       "      <td>2022</td>\n",
       "      <td>1</td>\n",
       "      <td>1068</td>\n",
       "      <td>2.93</td>\n",
       "      <td>3</td>\n",
       "      <td>2</td>\n",
       "    </tr>\n",
       "    <tr>\n",
       "      <th>82</th>\n",
       "      <td>Male</td>\n",
       "      <td>20</td>\n",
       "      <td>Average</td>\n",
       "      <td>2021-07-20</td>\n",
       "      <td>Website</td>\n",
       "      <td>107700</td>\n",
       "      <td>IND</td>\n",
       "      <td>$100K+</td>\n",
       "      <td>2021</td>\n",
       "      <td>7</td>\n",
       "      <td>1261</td>\n",
       "      <td>3.45</td>\n",
       "      <td>3</td>\n",
       "      <td>4</td>\n",
       "    </tr>\n",
       "    <tr>\n",
       "      <th>92</th>\n",
       "      <td>Male</td>\n",
       "      <td>22</td>\n",
       "      <td>Above average</td>\n",
       "      <td>2021-09-07</td>\n",
       "      <td>Sales</td>\n",
       "      <td>112780</td>\n",
       "      <td>NZ</td>\n",
       "      <td>$100K+</td>\n",
       "      <td>2021</td>\n",
       "      <td>9</td>\n",
       "      <td>1212</td>\n",
       "      <td>3.32</td>\n",
       "      <td>4</td>\n",
       "      <td>3</td>\n",
       "    </tr>\n",
       "    <tr>\n",
       "      <th>95</th>\n",
       "      <td>Other</td>\n",
       "      <td>37</td>\n",
       "      <td>Poor</td>\n",
       "      <td>2020-11-11</td>\n",
       "      <td>Finance</td>\n",
       "      <td>115440</td>\n",
       "      <td>NZ</td>\n",
       "      <td>$100K+</td>\n",
       "      <td>2020</td>\n",
       "      <td>11</td>\n",
       "      <td>1512</td>\n",
       "      <td>4.14</td>\n",
       "      <td>2</td>\n",
       "      <td>0</td>\n",
       "    </tr>\n",
       "    <tr>\n",
       "      <th>97</th>\n",
       "      <td>Female</td>\n",
       "      <td>30</td>\n",
       "      <td>Average</td>\n",
       "      <td>2022-10-27</td>\n",
       "      <td>Procurement</td>\n",
       "      <td>112570</td>\n",
       "      <td>NZ</td>\n",
       "      <td>$100K+</td>\n",
       "      <td>2022</td>\n",
       "      <td>10</td>\n",
       "      <td>797</td>\n",
       "      <td>2.18</td>\n",
       "      <td>3</td>\n",
       "      <td>2</td>\n",
       "    </tr>\n",
       "    <tr>\n",
       "      <th>101</th>\n",
       "      <td>Female</td>\n",
       "      <td>27</td>\n",
       "      <td>Average</td>\n",
       "      <td>2020-10-18</td>\n",
       "      <td>HR</td>\n",
       "      <td>119110</td>\n",
       "      <td>NZ</td>\n",
       "      <td>$100K+</td>\n",
       "      <td>2020</td>\n",
       "      <td>10</td>\n",
       "      <td>1536</td>\n",
       "      <td>4.21</td>\n",
       "      <td>3</td>\n",
       "      <td>1</td>\n",
       "    </tr>\n",
       "    <tr>\n",
       "      <th>102</th>\n",
       "      <td>Male</td>\n",
       "      <td>29</td>\n",
       "      <td>Poor</td>\n",
       "      <td>2020-12-15</td>\n",
       "      <td>Website</td>\n",
       "      <td>112110</td>\n",
       "      <td>NZ</td>\n",
       "      <td>$100K+</td>\n",
       "      <td>2020</td>\n",
       "      <td>12</td>\n",
       "      <td>1478</td>\n",
       "      <td>4.05</td>\n",
       "      <td>2</td>\n",
       "      <td>4</td>\n",
       "    </tr>\n",
       "    <tr>\n",
       "      <th>105</th>\n",
       "      <td>Male</td>\n",
       "      <td>20</td>\n",
       "      <td>Average</td>\n",
       "      <td>2021-09-20</td>\n",
       "      <td>Website</td>\n",
       "      <td>107700</td>\n",
       "      <td>NZ</td>\n",
       "      <td>$100K+</td>\n",
       "      <td>2021</td>\n",
       "      <td>9</td>\n",
       "      <td>1199</td>\n",
       "      <td>3.28</td>\n",
       "      <td>3</td>\n",
       "      <td>4</td>\n",
       "    </tr>\n",
       "    <tr>\n",
       "      <th>123</th>\n",
       "      <td>Male</td>\n",
       "      <td>33</td>\n",
       "      <td>Average</td>\n",
       "      <td>2020-11-29</td>\n",
       "      <td>Procurement</td>\n",
       "      <td>115920</td>\n",
       "      <td>NZ</td>\n",
       "      <td>$100K+</td>\n",
       "      <td>2020</td>\n",
       "      <td>11</td>\n",
       "      <td>1494</td>\n",
       "      <td>4.09</td>\n",
       "      <td>3</td>\n",
       "      <td>2</td>\n",
       "    </tr>\n",
       "    <tr>\n",
       "      <th>125</th>\n",
       "      <td>Male</td>\n",
       "      <td>25</td>\n",
       "      <td>Above average</td>\n",
       "      <td>2022-06-14</td>\n",
       "      <td>Procurement</td>\n",
       "      <td>109190</td>\n",
       "      <td>NZ</td>\n",
       "      <td>$100K+</td>\n",
       "      <td>2022</td>\n",
       "      <td>6</td>\n",
       "      <td>932</td>\n",
       "      <td>2.55</td>\n",
       "      <td>4</td>\n",
       "      <td>2</td>\n",
       "    </tr>\n",
       "    <tr>\n",
       "      <th>129</th>\n",
       "      <td>Male</td>\n",
       "      <td>31</td>\n",
       "      <td>Average</td>\n",
       "      <td>2022-06-12</td>\n",
       "      <td>Procurement</td>\n",
       "      <td>103550</td>\n",
       "      <td>NZ</td>\n",
       "      <td>$100K+</td>\n",
       "      <td>2022</td>\n",
       "      <td>6</td>\n",
       "      <td>934</td>\n",
       "      <td>2.56</td>\n",
       "      <td>3</td>\n",
       "      <td>2</td>\n",
       "    </tr>\n",
       "    <tr>\n",
       "      <th>136</th>\n",
       "      <td>Male</td>\n",
       "      <td>20</td>\n",
       "      <td>Average</td>\n",
       "      <td>2020-12-18</td>\n",
       "      <td>Website</td>\n",
       "      <td>112650</td>\n",
       "      <td>NZ</td>\n",
       "      <td>$100K+</td>\n",
       "      <td>2020</td>\n",
       "      <td>12</td>\n",
       "      <td>1475</td>\n",
       "      <td>4.04</td>\n",
       "      <td>3</td>\n",
       "      <td>4</td>\n",
       "    </tr>\n",
       "    <tr>\n",
       "      <th>141</th>\n",
       "      <td>Male</td>\n",
       "      <td>36</td>\n",
       "      <td>Average</td>\n",
       "      <td>2020-07-07</td>\n",
       "      <td>Website</td>\n",
       "      <td>118840</td>\n",
       "      <td>NZ</td>\n",
       "      <td>$100K+</td>\n",
       "      <td>2020</td>\n",
       "      <td>7</td>\n",
       "      <td>1639</td>\n",
       "      <td>4.49</td>\n",
       "      <td>3</td>\n",
       "      <td>4</td>\n",
       "    </tr>\n",
       "    <tr>\n",
       "      <th>144</th>\n",
       "      <td>Female</td>\n",
       "      <td>36</td>\n",
       "      <td>Average</td>\n",
       "      <td>2020-09-11</td>\n",
       "      <td>Procurement</td>\n",
       "      <td>114890</td>\n",
       "      <td>NZ</td>\n",
       "      <td>$100K+</td>\n",
       "      <td>2020</td>\n",
       "      <td>9</td>\n",
       "      <td>1573</td>\n",
       "      <td>4.31</td>\n",
       "      <td>3</td>\n",
       "      <td>2</td>\n",
       "    </tr>\n",
       "    <tr>\n",
       "      <th>147</th>\n",
       "      <td>Female</td>\n",
       "      <td>38</td>\n",
       "      <td>Exceptional</td>\n",
       "      <td>2021-06-30</td>\n",
       "      <td>Sales</td>\n",
       "      <td>109160</td>\n",
       "      <td>NZ</td>\n",
       "      <td>$100K+</td>\n",
       "      <td>2021</td>\n",
       "      <td>6</td>\n",
       "      <td>1281</td>\n",
       "      <td>3.51</td>\n",
       "      <td>5</td>\n",
       "      <td>3</td>\n",
       "    </tr>\n",
       "    <tr>\n",
       "      <th>148</th>\n",
       "      <td>Male</td>\n",
       "      <td>27</td>\n",
       "      <td>Very poor</td>\n",
       "      <td>2022-02-17</td>\n",
       "      <td>Procurement</td>\n",
       "      <td>113280</td>\n",
       "      <td>NZ</td>\n",
       "      <td>$100K+</td>\n",
       "      <td>2022</td>\n",
       "      <td>2</td>\n",
       "      <td>1049</td>\n",
       "      <td>2.87</td>\n",
       "      <td>1</td>\n",
       "      <td>2</td>\n",
       "    </tr>\n",
       "    <tr>\n",
       "      <th>150</th>\n",
       "      <td>Female</td>\n",
       "      <td>37</td>\n",
       "      <td>Average</td>\n",
       "      <td>2021-09-12</td>\n",
       "      <td>HR</td>\n",
       "      <td>118100</td>\n",
       "      <td>NZ</td>\n",
       "      <td>$100K+</td>\n",
       "      <td>2021</td>\n",
       "      <td>9</td>\n",
       "      <td>1207</td>\n",
       "      <td>3.31</td>\n",
       "      <td>3</td>\n",
       "      <td>1</td>\n",
       "    </tr>\n",
       "    <tr>\n",
       "      <th>152</th>\n",
       "      <td>Female</td>\n",
       "      <td>43</td>\n",
       "      <td>Average</td>\n",
       "      <td>2023-04-29</td>\n",
       "      <td>Website</td>\n",
       "      <td>114870</td>\n",
       "      <td>NZ</td>\n",
       "      <td>$100K+</td>\n",
       "      <td>2023</td>\n",
       "      <td>4</td>\n",
       "      <td>613</td>\n",
       "      <td>1.68</td>\n",
       "      <td>3</td>\n",
       "      <td>4</td>\n",
       "    </tr>\n",
       "    <tr>\n",
       "      <th>154</th>\n",
       "      <td>Female</td>\n",
       "      <td>28</td>\n",
       "      <td>Average</td>\n",
       "      <td>2021-10-17</td>\n",
       "      <td>Procurement</td>\n",
       "      <td>104770</td>\n",
       "      <td>NZ</td>\n",
       "      <td>$100K+</td>\n",
       "      <td>2021</td>\n",
       "      <td>10</td>\n",
       "      <td>1172</td>\n",
       "      <td>3.21</td>\n",
       "      <td>3</td>\n",
       "      <td>2</td>\n",
       "    </tr>\n",
       "    <tr>\n",
       "      <th>162</th>\n",
       "      <td>Female</td>\n",
       "      <td>28</td>\n",
       "      <td>Average</td>\n",
       "      <td>2022-03-29</td>\n",
       "      <td>Procurement</td>\n",
       "      <td>104120</td>\n",
       "      <td>NZ</td>\n",
       "      <td>$100K+</td>\n",
       "      <td>2022</td>\n",
       "      <td>3</td>\n",
       "      <td>1009</td>\n",
       "      <td>2.76</td>\n",
       "      <td>3</td>\n",
       "      <td>2</td>\n",
       "    </tr>\n",
       "    <tr>\n",
       "      <th>164</th>\n",
       "      <td>Male</td>\n",
       "      <td>24</td>\n",
       "      <td>Average</td>\n",
       "      <td>2022-05-05</td>\n",
       "      <td>Website</td>\n",
       "      <td>100420</td>\n",
       "      <td>NZ</td>\n",
       "      <td>$100K+</td>\n",
       "      <td>2022</td>\n",
       "      <td>5</td>\n",
       "      <td>972</td>\n",
       "      <td>2.66</td>\n",
       "      <td>3</td>\n",
       "      <td>4</td>\n",
       "    </tr>\n",
       "    <tr>\n",
       "      <th>165</th>\n",
       "      <td>Female</td>\n",
       "      <td>30</td>\n",
       "      <td>Average</td>\n",
       "      <td>2022-10-16</td>\n",
       "      <td>Procurement</td>\n",
       "      <td>114180</td>\n",
       "      <td>NZ</td>\n",
       "      <td>$100K+</td>\n",
       "      <td>2022</td>\n",
       "      <td>10</td>\n",
       "      <td>808</td>\n",
       "      <td>2.21</td>\n",
       "      <td>3</td>\n",
       "      <td>2</td>\n",
       "    </tr>\n",
       "    <tr>\n",
       "      <th>167</th>\n",
       "      <td>Male</td>\n",
       "      <td>23</td>\n",
       "      <td>Average</td>\n",
       "      <td>2021-09-01</td>\n",
       "      <td>Procurement</td>\n",
       "      <td>106460</td>\n",
       "      <td>NZ</td>\n",
       "      <td>$100K+</td>\n",
       "      <td>2021</td>\n",
       "      <td>9</td>\n",
       "      <td>1218</td>\n",
       "      <td>3.34</td>\n",
       "      <td>3</td>\n",
       "      <td>2</td>\n",
       "    </tr>\n",
       "    <tr>\n",
       "      <th>171</th>\n",
       "      <td>Female</td>\n",
       "      <td>40</td>\n",
       "      <td>Average</td>\n",
       "      <td>2021-07-04</td>\n",
       "      <td>Website</td>\n",
       "      <td>104410</td>\n",
       "      <td>NZ</td>\n",
       "      <td>$100K+</td>\n",
       "      <td>2021</td>\n",
       "      <td>7</td>\n",
       "      <td>1277</td>\n",
       "      <td>3.50</td>\n",
       "      <td>3</td>\n",
       "      <td>4</td>\n",
       "    </tr>\n",
       "  </tbody>\n",
       "</table>\n",
       "</div>"
      ],
      "text/plain": [
       "     Gender  Age         Rating Date Joined   Department  Salary Country  \\\n",
       "0      Male   20        Average  2020-10-18      Website  112650     IND   \n",
       "2    Female   31        Average  2022-04-12  Procurement  103550     IND   \n",
       "4    Female   37           Poor  2020-09-11      Finance  115440     IND   \n",
       "9      Male   25  Above average  2022-04-14  Procurement  109190     IND   \n",
       "10     Male   40        Average  2021-05-04      Website  104410     IND   \n",
       "14   Female   34        Average  2022-03-22  Procurement  112650     IND   \n",
       "16     Male   36        Average  2020-05-07      Website  118840     IND   \n",
       "25     Male   24        Average  2022-03-05      Website  100420     IND   \n",
       "27   Female   44        Average  2023-02-28      Website  114870     IND   \n",
       "29   Female   30        Average  2022-08-27  Procurement  112570     IND   \n",
       "35     Male   29           Poor  2020-10-15      Website  112110     IND   \n",
       "36   Female   27        Average  2020-08-18           HR  119110     IND   \n",
       "37     Male   22  Above average  2021-07-07        Sales  112780     IND   \n",
       "38   Female   36        Average  2020-07-11  Procurement  114890     IND   \n",
       "46   Female   28        Average  2021-08-17  Procurement  104770     IND   \n",
       "53     Male   33        Average  2020-09-29  Procurement  115920     IND   \n",
       "63   Female   38    Exceptional  2021-04-30        Sales  109160     IND   \n",
       "67     Male   27      Very poor  2021-12-17  Procurement  113280     IND   \n",
       "74     Male   23        Average  2021-07-01  Procurement  106460     IND   \n",
       "75   Female   37        Average  2021-07-12           HR  118100     IND   \n",
       "77   Female   30        Average  2022-08-16  Procurement  114180     IND   \n",
       "78   Female   28        Average  2022-01-29  Procurement  104120     IND   \n",
       "82     Male   20        Average  2021-07-20      Website  107700     IND   \n",
       "92     Male   22  Above average  2021-09-07        Sales  112780      NZ   \n",
       "95    Other   37           Poor  2020-11-11      Finance  115440      NZ   \n",
       "97   Female   30        Average  2022-10-27  Procurement  112570      NZ   \n",
       "101  Female   27        Average  2020-10-18           HR  119110      NZ   \n",
       "102    Male   29           Poor  2020-12-15      Website  112110      NZ   \n",
       "105    Male   20        Average  2021-09-20      Website  107700      NZ   \n",
       "123    Male   33        Average  2020-11-29  Procurement  115920      NZ   \n",
       "125    Male   25  Above average  2022-06-14  Procurement  109190      NZ   \n",
       "129    Male   31        Average  2022-06-12  Procurement  103550      NZ   \n",
       "136    Male   20        Average  2020-12-18      Website  112650      NZ   \n",
       "141    Male   36        Average  2020-07-07      Website  118840      NZ   \n",
       "144  Female   36        Average  2020-09-11  Procurement  114890      NZ   \n",
       "147  Female   38    Exceptional  2021-06-30        Sales  109160      NZ   \n",
       "148    Male   27      Very poor  2022-02-17  Procurement  113280      NZ   \n",
       "150  Female   37        Average  2021-09-12           HR  118100      NZ   \n",
       "152  Female   43        Average  2023-04-29      Website  114870      NZ   \n",
       "154  Female   28        Average  2021-10-17  Procurement  104770      NZ   \n",
       "162  Female   28        Average  2022-03-29  Procurement  104120      NZ   \n",
       "164    Male   24        Average  2022-05-05      Website  100420      NZ   \n",
       "165  Female   30        Average  2022-10-16  Procurement  114180      NZ   \n",
       "167    Male   23        Average  2021-09-01  Procurement  106460      NZ   \n",
       "171  Female   40        Average  2021-07-04      Website  104410      NZ   \n",
       "\n",
       "    Salary_Range  Joining_Year  Join_Month  Tenure_Days  Tenure_Years  \\\n",
       "0         $100K+          2020          10         1536          4.21   \n",
       "2         $100K+          2022           4          995          2.73   \n",
       "4         $100K+          2020           9         1573          4.31   \n",
       "9         $100K+          2022           4          993          2.72   \n",
       "10        $100K+          2021           5         1338          3.67   \n",
       "14        $100K+          2022           3         1016          2.78   \n",
       "16        $100K+          2020           5         1700          4.66   \n",
       "25        $100K+          2022           3         1033          2.83   \n",
       "27        $100K+          2023           2          673          1.84   \n",
       "29        $100K+          2022           8          858          2.35   \n",
       "35        $100K+          2020          10         1539          4.22   \n",
       "36        $100K+          2020           8         1597          4.38   \n",
       "37        $100K+          2021           7         1274          3.49   \n",
       "38        $100K+          2020           7         1635          4.48   \n",
       "46        $100K+          2021           8         1233          3.38   \n",
       "53        $100K+          2020           9         1555          4.26   \n",
       "63        $100K+          2021           4         1342          3.68   \n",
       "67        $100K+          2021          12         1111          3.04   \n",
       "74        $100K+          2021           7         1280          3.51   \n",
       "75        $100K+          2021           7         1269          3.48   \n",
       "77        $100K+          2022           8          869          2.38   \n",
       "78        $100K+          2022           1         1068          2.93   \n",
       "82        $100K+          2021           7         1261          3.45   \n",
       "92        $100K+          2021           9         1212          3.32   \n",
       "95        $100K+          2020          11         1512          4.14   \n",
       "97        $100K+          2022          10          797          2.18   \n",
       "101       $100K+          2020          10         1536          4.21   \n",
       "102       $100K+          2020          12         1478          4.05   \n",
       "105       $100K+          2021           9         1199          3.28   \n",
       "123       $100K+          2020          11         1494          4.09   \n",
       "125       $100K+          2022           6          932          2.55   \n",
       "129       $100K+          2022           6          934          2.56   \n",
       "136       $100K+          2020          12         1475          4.04   \n",
       "141       $100K+          2020           7         1639          4.49   \n",
       "144       $100K+          2020           9         1573          4.31   \n",
       "147       $100K+          2021           6         1281          3.51   \n",
       "148       $100K+          2022           2         1049          2.87   \n",
       "150       $100K+          2021           9         1207          3.31   \n",
       "152       $100K+          2023           4          613          1.68   \n",
       "154       $100K+          2021          10         1172          3.21   \n",
       "162       $100K+          2022           3         1009          2.76   \n",
       "164       $100K+          2022           5          972          2.66   \n",
       "165       $100K+          2022          10          808          2.21   \n",
       "167       $100K+          2021           9         1218          3.34   \n",
       "171       $100K+          2021           7         1277          3.50   \n",
       "\n",
       "     Rating_Enc  Department_le  \n",
       "0             3              4  \n",
       "2             3              2  \n",
       "4             2              0  \n",
       "9             4              2  \n",
       "10            3              4  \n",
       "14            3              2  \n",
       "16            3              4  \n",
       "25            3              4  \n",
       "27            3              4  \n",
       "29            3              2  \n",
       "35            2              4  \n",
       "36            3              1  \n",
       "37            4              3  \n",
       "38            3              2  \n",
       "46            3              2  \n",
       "53            3              2  \n",
       "63            5              3  \n",
       "67            1              2  \n",
       "74            3              2  \n",
       "75            3              1  \n",
       "77            3              2  \n",
       "78            3              2  \n",
       "82            3              4  \n",
       "92            4              3  \n",
       "95            2              0  \n",
       "97            3              2  \n",
       "101           3              1  \n",
       "102           2              4  \n",
       "105           3              4  \n",
       "123           3              2  \n",
       "125           4              2  \n",
       "129           3              2  \n",
       "136           3              4  \n",
       "141           3              4  \n",
       "144           3              2  \n",
       "147           5              3  \n",
       "148           1              2  \n",
       "150           3              1  \n",
       "152           3              4  \n",
       "154           3              2  \n",
       "162           3              2  \n",
       "164           3              4  \n",
       "165           3              2  \n",
       "167           3              2  \n",
       "171           3              4  "
      ]
     },
     "execution_count": 90,
     "metadata": {},
     "output_type": "execute_result"
    }
   ],
   "source": [
    "data[data['Salary']>100000]"
   ]
  },
  {
   "cell_type": "markdown",
   "id": "3181bebc",
   "metadata": {},
   "source": [
    "**Observation**\n",
    "- Here also no much correlation between Salary and Experience.\n",
    "\n",
    "**16. Which department is most common in each country?**"
   ]
  },
  {
   "cell_type": "code",
   "execution_count": 91,
   "id": "850ac8d2",
   "metadata": {},
   "outputs": [
    {
     "data": {
      "text/html": [
       "<div>\n",
       "<style scoped>\n",
       "    .dataframe tbody tr th:only-of-type {\n",
       "        vertical-align: middle;\n",
       "    }\n",
       "\n",
       "    .dataframe tbody tr th {\n",
       "        vertical-align: top;\n",
       "    }\n",
       "\n",
       "    .dataframe thead th {\n",
       "        text-align: right;\n",
       "    }\n",
       "</style>\n",
       "<table border=\"1\" class=\"dataframe\">\n",
       "  <thead>\n",
       "    <tr style=\"text-align: right;\">\n",
       "      <th>Department</th>\n",
       "      <th>Finance</th>\n",
       "      <th>HR</th>\n",
       "      <th>Procurement</th>\n",
       "      <th>Sales</th>\n",
       "      <th>Website</th>\n",
       "    </tr>\n",
       "    <tr>\n",
       "      <th>Country</th>\n",
       "      <th></th>\n",
       "      <th></th>\n",
       "      <th></th>\n",
       "      <th></th>\n",
       "      <th></th>\n",
       "    </tr>\n",
       "  </thead>\n",
       "  <tbody>\n",
       "    <tr>\n",
       "      <th>IND</th>\n",
       "      <td>19</td>\n",
       "      <td>4</td>\n",
       "      <td>27</td>\n",
       "      <td>14</td>\n",
       "      <td>27</td>\n",
       "    </tr>\n",
       "    <tr>\n",
       "      <th>NZ</th>\n",
       "      <td>19</td>\n",
       "      <td>4</td>\n",
       "      <td>26</td>\n",
       "      <td>14</td>\n",
       "      <td>27</td>\n",
       "    </tr>\n",
       "  </tbody>\n",
       "</table>\n",
       "</div>"
      ],
      "text/plain": [
       "Department  Finance  HR  Procurement  Sales  Website\n",
       "Country                                             \n",
       "IND              19   4           27     14       27\n",
       "NZ               19   4           26     14       27"
      ]
     },
     "execution_count": 91,
     "metadata": {},
     "output_type": "execute_result"
    }
   ],
   "source": [
    "cnt_dep=data.groupby('Country')['Department'].value_counts().unstack()\n",
    "cnt_dep"
   ]
  },
  {
   "cell_type": "code",
   "execution_count": 92,
   "id": "f2812153",
   "metadata": {},
   "outputs": [
    {
     "data": {
      "image/png": "[encoded data removed]",
      "text/plain": [
       "<Figure size 640x480 with 1 Axes>"
      ]
     },
     "metadata": {},
     "output_type": "display_data"
    }
   ],
   "source": [
    "cnt_dep.plot(kind='bar',stacked=False)\n",
    "plt.title(\"Country Wise Department Distribution\",fontsize=16)\n",
    "plt.xticks(rotation=0,fontsize=14)\n",
    "plt.xlabel(\"Country\",fontsize=10)\n",
    "plt.legend(loc='upper right',bbox_to_anchor=(1.4,0.7))\n",
    "plt.grid(axis=\"y\",linestyle='--',alpha=0.6)\n",
    "plt.show()"
   ]
  },
  {
   "cell_type": "markdown",
   "id": "38c8b84f",
   "metadata": {},
   "source": [
    "**Observation:**\n",
    "- In India and NZ almost similar distribution of department occurs.\n",
    "\n",
    "**17. Within each department, do males or females have higher average salaries?**"
   ]
  },
  {
   "cell_type": "code",
   "execution_count": 93,
   "id": "6a3c6123",
   "metadata": {},
   "outputs": [
    {
     "data": {
      "text/html": [
       "<div>\n",
       "<style scoped>\n",
       "    .dataframe tbody tr th:only-of-type {\n",
       "        vertical-align: middle;\n",
       "    }\n",
       "\n",
       "    .dataframe tbody tr th {\n",
       "        vertical-align: top;\n",
       "    }\n",
       "\n",
       "    .dataframe thead th {\n",
       "        text-align: right;\n",
       "    }\n",
       "</style>\n",
       "<table border=\"1\" class=\"dataframe\">\n",
       "  <thead>\n",
       "    <tr style=\"text-align: right;\">\n",
       "      <th>Gender</th>\n",
       "      <th>Female</th>\n",
       "      <th>Male</th>\n",
       "      <th>Other</th>\n",
       "    </tr>\n",
       "    <tr>\n",
       "      <th>Department</th>\n",
       "      <th></th>\n",
       "      <th></th>\n",
       "      <th></th>\n",
       "    </tr>\n",
       "  </thead>\n",
       "  <tbody>\n",
       "    <tr>\n",
       "      <th>Finance</th>\n",
       "      <td>75365.263158</td>\n",
       "      <td>67411.250000</td>\n",
       "      <td>81146.666667</td>\n",
       "    </tr>\n",
       "    <tr>\n",
       "      <th>HR</th>\n",
       "      <td>103986.000000</td>\n",
       "      <td>65756.666667</td>\n",
       "      <td>NaN</td>\n",
       "    </tr>\n",
       "    <tr>\n",
       "      <th>Procurement</th>\n",
       "      <td>91253.913043</td>\n",
       "      <td>75287.000000</td>\n",
       "      <td>NaN</td>\n",
       "    </tr>\n",
       "    <tr>\n",
       "      <th>Sales</th>\n",
       "      <td>74443.636364</td>\n",
       "      <td>63610.588235</td>\n",
       "      <td>NaN</td>\n",
       "    </tr>\n",
       "    <tr>\n",
       "      <th>Website</th>\n",
       "      <td>71388.888889</td>\n",
       "      <td>85520.416667</td>\n",
       "      <td>90903.333333</td>\n",
       "    </tr>\n",
       "  </tbody>\n",
       "</table>\n",
       "</div>"
      ],
      "text/plain": [
       "Gender              Female          Male         Other\n",
       "Department                                            \n",
       "Finance       75365.263158  67411.250000  81146.666667\n",
       "HR           103986.000000  65756.666667           NaN\n",
       "Procurement   91253.913043  75287.000000           NaN\n",
       "Sales         74443.636364  63610.588235           NaN\n",
       "Website       71388.888889  85520.416667  90903.333333"
      ]
     },
     "execution_count": 93,
     "metadata": {},
     "output_type": "execute_result"
    }
   ],
   "source": [
    "gend=data.groupby(['Department','Gender'])['Salary'].mean().unstack()\n",
    "gend"
   ]
  },
  {
   "cell_type": "code",
   "execution_count": 94,
   "id": "88595bfa",
   "metadata": {},
   "outputs": [
    {
     "data": {
      "text/html": [
       "<div>\n",
       "<style scoped>\n",
       "    .dataframe tbody tr th:only-of-type {\n",
       "        vertical-align: middle;\n",
       "    }\n",
       "\n",
       "    .dataframe tbody tr th {\n",
       "        vertical-align: top;\n",
       "    }\n",
       "\n",
       "    .dataframe thead th {\n",
       "        text-align: right;\n",
       "    }\n",
       "</style>\n",
       "<table border=\"1\" class=\"dataframe\">\n",
       "  <thead>\n",
       "    <tr style=\"text-align: right;\">\n",
       "      <th>Gender</th>\n",
       "      <th>Female</th>\n",
       "      <th>Male</th>\n",
       "    </tr>\n",
       "    <tr>\n",
       "      <th>Department</th>\n",
       "      <th></th>\n",
       "      <th></th>\n",
       "    </tr>\n",
       "  </thead>\n",
       "  <tbody>\n",
       "    <tr>\n",
       "      <th>Finance</th>\n",
       "      <td>75365.263158</td>\n",
       "      <td>67411.250000</td>\n",
       "    </tr>\n",
       "    <tr>\n",
       "      <th>HR</th>\n",
       "      <td>103986.000000</td>\n",
       "      <td>65756.666667</td>\n",
       "    </tr>\n",
       "    <tr>\n",
       "      <th>Procurement</th>\n",
       "      <td>91253.913043</td>\n",
       "      <td>75287.000000</td>\n",
       "    </tr>\n",
       "    <tr>\n",
       "      <th>Sales</th>\n",
       "      <td>74443.636364</td>\n",
       "      <td>63610.588235</td>\n",
       "    </tr>\n",
       "    <tr>\n",
       "      <th>Website</th>\n",
       "      <td>71388.888889</td>\n",
       "      <td>85520.416667</td>\n",
       "    </tr>\n",
       "  </tbody>\n",
       "</table>\n",
       "</div>"
      ],
      "text/plain": [
       "Gender              Female          Male\n",
       "Department                              \n",
       "Finance       75365.263158  67411.250000\n",
       "HR           103986.000000  65756.666667\n",
       "Procurement   91253.913043  75287.000000\n",
       "Sales         74443.636364  63610.588235\n",
       "Website       71388.888889  85520.416667"
      ]
     },
     "execution_count": 94,
     "metadata": {},
     "output_type": "execute_result"
    }
   ],
   "source": [
    "gend=gend.drop(columns=\"Other\")\n",
    "gend"
   ]
  },
  {
   "cell_type": "code",
   "execution_count": 95,
   "id": "22d48ae4",
   "metadata": {},
   "outputs": [
    {
     "data": {
      "image/png": "[encoded data removed]",
      "text/plain": [
       "<Figure size 640x480 with 1 Axes>"
      ]
     },
     "metadata": {},
     "output_type": "display_data"
    }
   ],
   "source": [
    "gend.plot(kind=\"bar\",stacked=False,color=['red','yellow'])\n",
    "plt.xticks(rotation=45)\n",
    "plt.title(\"Average Salary in each Department w.r.t. Gender\")\n",
    "plt.tight_layout()\n",
    "plt.show()"
   ]
  },
  {
   "cell_type": "markdown",
   "id": "50322647",
   "metadata": {},
   "source": [
    "**Observation**\n",
    "- In HR Department, Average Salary of Female is Highest.\n",
    "- Website is the only Department where average Salary of Male is higher than Female.\n",
    "- Except Website, In each Department Female have higher average salary than male."
   ]
  }
 ],
 "metadata": {
  "kernelspec": {
   "display_name": "Python 3 (ipykernel)",
   "language": "python",
   "name": "python3"
  },
  "language_info": {
   "codemirror_mode": {
    "name": "ipython",
    "version": 3
   },
   "file_extension": ".py",
   "mimetype": "text/x-python",
   "name": "python",
   "nbconvert_exporter": "python",
   "pygments_lexer": "ipython3",
   "version": "3.9.13"
  }
 },
 "nbformat": 4,
 "nbformat_minor": 5
}
